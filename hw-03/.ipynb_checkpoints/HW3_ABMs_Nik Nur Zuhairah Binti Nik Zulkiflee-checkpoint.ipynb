{
 "cells": [
  {
   "cell_type": "markdown",
   "metadata": {},
   "source": [
    "# Homework Assignment 3 (Individual)\n",
    "\n",
    "---"
   ]
  },
  {
   "cell_type": "markdown",
   "metadata": {},
   "source": [
    "### <p style=\"text-align: right;\"> &#9989; Nik Nur Zuhairah Binti Nik Zulkiflee</p>"
   ]
  },
  {
   "cell_type": "markdown",
   "metadata": {},
   "source": [
    "\n",
    "---\n",
    "## Creating a natural selection model using ABMs and OOP\n",
    "\n",
    "In this homework, we have two sections.\n",
    "\n",
    "- **Part A: Git practice**\n",
    "- **Part B: ABM + OOP: Simulating animal populations -- Natural selection and adaptation**\n",
    "\n",
    "<img src=\"https://raw.githubusercontent.com/huichiayu/cmse_202_802/main/IMGs/rock_mice.jpg\" border=\"0\" align=\"center\" width=\"600\">\n",
    "image found online.\n",
    "\n",
    "\n",
    "### Goal for this homework assignment\n",
    "By now, you have learned ABM and OOP through the assignments of assembling Zoo and Superbugs. Let's use those skills to build a simple fun model of natural selection. \n",
    "\n",
    "**This assignment is due roughly two weeks from now at 11:59 pm on Friday, March 31.** It should be uploaded into the \"Homework Assignments\" submission folder for Homework #3, as well as GitHub turn-in repo.  Submission instructions can be found at the end of the notebook. **The distribution of points can be found in the section headers**.\n"
   ]
  },
  {
   "cell_type": "markdown",
   "metadata": {},
   "source": [
    "---\n",
    "## Part 0: Upload this file to your Git repository to track your progress on your assignment (15 pt)\n",
    "\n",
    "#### Note: This is different from previous assignments!\n",
    "\n",
    "You will add this homework assignment to your GutHub repository you created for previous homework so that you can track your progress on the assignment and preserve the final version that you turn in. We also want you to get practice with **branching**, as that will be important and useful for your group projects. \n",
    "\n",
    "**&#9989; Do the following**:\n",
    "\n",
    "\n",
    "1. Navigate to your `cmse202-s23-turnin` repository \n",
    "2. Create a new branch called `hw03_branch` and move into it. \n",
    "3. Create a new directory called `hw-03`.\n",
    "4. Move this notebook into that **new directory**, then **add** and **commit** it. \n",
    "5. Finally, to test that everything is working, `git push` the file and new branch so they end up in your GitHub repository. \n",
    "\n",
    "**Important**: Make sure to add your Professor and TA as collaborators of this respository with \"Read\" access so that we can see your assignment (you should have done this in the previous homework assignment)\n",
    "\n",
    "**Also**: Make sure that the version of this notebook that you are working on is the same one that you just added to your repository! If you are working on a different copy of the noteobok, **none of your changes will be tracked**!\n",
    "\n",
    "If everything went as intended, the file should now show up on your GitHub account in the `cmse202-s23-turnin` repository inside the `hw-03` directory and `hw-03` branch that you just created.  Periodically, **you'll be asked to commit your changes and push them to the remote GitHub location**. Of course, you can always commit your changes more often than that, if you wish.  It will be good to develop a habit of committing your changes any time you make a significant modification, or when you stop working on the project for a bit.\n",
    "\n"
   ]
  },
  {
   "cell_type": "markdown",
   "metadata": {},
   "source": [
    "---\n",
    "\n",
    "# A natural selection model\n",
    "For this homework assignment, you will be building an Agent-Based Model (ABM) that simulates natural selection in action. You will build two classes for mice, which inhabit the world, and one class for a (predator) hawk. The mice have different fur color, which allows them to blend in better (or worse) with their environment. This model is (loosely) based on an actual case of natural selection involving the [Peppered Moth](https://en.wikipedia.org/wiki/Peppered_moth_evolution).\n",
    "\n",
    "For this assignment, you will be working with an environment class, which will allow you to actually run your simulation. We've also provided you with a generic `Animal_Agent`, which you will use to build your own classes for the natural selection model. You will need to download the generic `Animal_Agent` class and `Environment` class. You can find them here:\n",
    "\n",
    "- `https://raw.githubusercontent.com/msu-cmse-courses/cmse202-S23-data/main/HW/HW3/Animal_Agent_Class.py`\n",
    "- `https://raw.githubusercontent.com/msu-cmse-courses/cmse202-S23-data/main/HW/HW3/Environment.py`"
   ]
  },
  {
   "cell_type": "markdown",
   "metadata": {},
   "source": [
    "## 1. Building Up an Environment with Animal Agents\n",
    "\n",
    "\n",
    "\n",
    "### 1.1 (5 Points)\n",
    "\n",
    "Spend some time exploring the new classes a bit. **Write a few sentences giving a high-level description of how this model works. What are the different classes? What do they do? How can they be used to create an Agent-Based Model?**\n"
   ]
  },
  {
   "cell_type": "markdown",
   "metadata": {},
   "source": [
    "*init(self, xsize=100, ysize=100): This method initializes the environment with a specified size and sets the color of the environment to a dark yellow/brown color. It also initializes an empty list to store animal agents.\n",
    "add_agent(self, agent): This method adds an animal agent to the list of agents in the environment.\n",
    "simulate(self, tot_time): This method simulates the predator-prey system for a specified amount of time (tot_time). It updates the position of the agents, draws them on the environment and removes any agents that have died or been caught. It then displays the updated environment with the agents' positions.\n",
    "simulate_plot_populations(self, tot_time): This method is similar to the simulate method, but it also plots the population sizes of the light brown and dark brown animals over time. It stores the population sizes and the time values in separate lists and then plots the lists against each other using matplotlib*"
   ]
  },
  {
   "cell_type": "markdown",
   "metadata": {},
   "source": [
    "### 1.2 (15 Points)\n",
    "\n",
    "Construct a new `Environment` object and a new `Animal_Agent` object. Specify that the `Animal_Agent` object is a female. Add the `Animal_Agent` object to the `Environment` object. Run the `simulation` method. You should see there's a bug in the code. **Fix the bug and explain what the cause was.**"
   ]
  },
  {
   "cell_type": "code",
   "execution_count": 24,
   "metadata": {},
   "outputs": [],
   "source": [
    "class Animal_Agent():\n",
    "\n",
    "    '''\n",
    "    An Animal_Agent class. \n",
    "    '''\n",
    "    \n",
    "    def __init__(self,xmax=100,ymax=100,ptype=\"Prey\",sex=\"M\",age_limit=50,catch_radius=10,mate_range=5,gestation=8,last_litter_time=-8, shape=\"o\",color='saddlebrown',saturation_pop=150):\n",
    "        '''\n",
    "        Initaliazes an animal agent object, an autonomous agent that can interact with other agents. Specifically, predators can hunt prey,\n",
    "        prey can procreate, and both predator and prey can move around and age. \n",
    "\n",
    "        xmax (int): The (x) size of the habitat\n",
    "        ymax (int): The (y) size of the habitat\n",
    "        pytpe (string): Sets whether this is a predator or prey type of animal\n",
    "        sex (string): Sets the sex of the animal\n",
    "        age_limit (int): Sets the age at which the animal dies of old age\n",
    "        catch_radius (int): Specifies how far away a predator can find/catch prey\n",
    "        mate_range (int): Specifies how far away a prey can find a mate\n",
    "        gestation (int): How long does an animal need to wait between mating cycles\n",
    "        shape (string): Specifies the marker to use when visualizing the animal\n",
    "        color (string): Specifies the color to use when visualizing the animal\n",
    "        saturation_pop (int): The saturation population, where the environment can no longer support the prey\n",
    "        is_caught (bool): Flag for determining whether prey has been caught by a predator\n",
    "        '''\n",
    "        self.x = random.randint(0, xmax)\n",
    "        self.y = random.randint(0, ymax)\n",
    "        self.age = 0 \n",
    "        self.ptype = ptype\n",
    "        self.age_limit = age_limit\n",
    "        self.catch_radius = catch_radius\n",
    "        self.xmax = xmax\n",
    "        self.ymax = ymax\n",
    "        self.sex = sex\n",
    "        self.gestation = gestation\n",
    "        self.last_litter_time = last_litter_time\n",
    "        self.mate_range = mate_range \n",
    "        self.color = color\n",
    "        self.shape = shape\n",
    "        self.saturation_pop = saturation_pop\n",
    "        self.is_caught = False\n",
    "\n",
    "\n",
    "    def roaming(self,vx=7,vy=7): \n",
    "        '''\n",
    "        Method to proceed random walk. Checks to make sure that the position it is trying to move into is within the bounds of \n",
    "        the environment. \n",
    "        '''\n",
    "        dx = np.random.randint(-vx,vx)\n",
    "        dy = np.random.randint(-vy,vy)\n",
    "\n",
    "        if (self.x + dx > self.xmax) or (self.x + dx < 0):\n",
    "            self.x -= dx\n",
    "        else:\n",
    "            self.x += dx\n",
    "\n",
    "        if (self.y + dy > self.ymax) or (self.y + dy < 0):\n",
    "            self.y -= dy\n",
    "        else:\n",
    "            self.y += dy\n",
    "        # print(self.x,self.y)\n",
    "\n",
    "    def set_allele(self, alle_d, alle_m):\n",
    "        '''\n",
    "        Method to set the alleles of this mouse: alle_d and alle_m from dad and mom, respectively.\n",
    "        The values is either 0 or 1 for each allele. \n",
    "        0 and 1 are recessive and dominant gene expressions, respectively.\n",
    "        This setup will result in three types of fur_color expressions: \n",
    "        type0 ==> (0,0): 0 = 0 + 0; recessive, dark color\n",
    "        type1 ==> (0,1) or (1,0): 1 = 0 + 1 = 1 + 0; dominant, light color\n",
    "        type2 ==> (1,1): 2 = 1 + 1; dominant, light color\n",
    "        '''\n",
    "        \n",
    "        self.alle_d = alle_d\n",
    "        self.alle_m = alle_m\n",
    "        \n",
    "        # Here we set light animal color to be dominant.\n",
    "        if len(self.alle_d + self.alle_m) >= 1:\n",
    "            self.color = 'goldenrod'\n",
    "            self.catch_probability = 0.95\n",
    "            \n",
    "        else:\n",
    "            self.color = \"saddlebrown\" \n",
    "\n",
    "\n",
    "    def draw(self,ax):\n",
    "        '''\n",
    "        Method to draw the animal agent using an axis object ax.\n",
    "        '''\n",
    "        ax.scatter(self.x, self.y, s=24.0, c=self.color, marker=self.shape)   \n",
    "    \n",
    "    def aging(self):\n",
    "        '''\n",
    "        Method to increase the age of the animal agent by one.\n",
    "        '''\n",
    "        self.age += 1\n",
    "\n",
    "    def check_if_dead(self):\n",
    "        '''\n",
    "        Method to check whether the animal agent has died of old age.\n",
    "        '''\n",
    "        if self.age > self.age_limit:\n",
    "            return True\n",
    "        else:\n",
    "            return False\n",
    "\n",
    "\n",
    "    def get_distance(self,agent):\n",
    "        '''\n",
    "        Get the distance between agents.\n",
    "\n",
    "        agent (Animal_Agent): An animal agent object that we're finding the distance to.\n",
    "        '''\n",
    "        return math.sqrt((self.x-agent.x)**2 + (self.y-agent.y)**2)\n",
    "    \n",
    "    def hunt(self,all_agents):\n",
    "        '''\n",
    "        Method for a predator to find prey. If the predator finds prey, the method sets the is_caught flag \n",
    "        and returns the prey object so it can be removed from the environment. \n",
    "\n",
    "\n",
    "        all_agents (list): A list of all of the animal agent objects \n",
    "        '''\n",
    "        for agent in all_agents:\n",
    "            if (agent.ptype == \"Prey\") and (agent.age < agent.age_limit) and not (agent.is_caught):\n",
    "                if self.get_distance(agent) < self.catch_radius:\n",
    "                    agent.is_caught = True\n",
    "                    return agent       \n",
    "        return False\n",
    "    \n",
    "    def procreate(self, dt, time):\n",
    "        all_agents = time\n",
    "        new_agents = []\n",
    "        if self.sex == \"F\":\n",
    "            if (time - self.last_litter_time >= self.gestation):\n",
    "                for agent in all_agents:\n",
    "                    if (agent.ptype == self.ptype) and (agent.sex == \"M\") and (agent.age < agent.age_limit) and (not agent.is_caught):\n",
    "                        if np.random.random() < self.mating_success_prob:\n",
    "                            new_agent = self.__class__(self.ptype, sex=\"F\", age=0, position=self.position, speed=self.speed, detection_radius=self.detection_radius, vision_angle=self.vision_angle, max_turning_angle=self.max_turning_angle, litter_size=self.litter_size, gestation=self.gestation, age_limit=self.age_limit, mating_success_prob=self.mating_success_prob)\n",
    "                            new_agents.append(new_agent)\n",
    "                            self.last_litter_time = time\n",
    "                            agent.last_mating_time = time\n",
    "        return new_agents\n",
    "\n",
    "        return False"
   ]
  },
  {
   "cell_type": "code",
   "execution_count": 25,
   "metadata": {},
   "outputs": [],
   "source": [
    "class Environment():\n",
    "\n",
    "    '''\n",
    "    An Environment class. \n",
    "    '''\n",
    "    \n",
    "    def __init__(self, xsize=100, ysize=100):\n",
    "        self.xsize = xsize\n",
    "        self.ysize = ysize\n",
    "        self.environ = np.zeros((self.xsize,self.ysize,3))\n",
    "        self.environ[:,:,0] = 0.38\n",
    "        self.environ[:,:,1] = 0.19\n",
    "        self.environ[:,:,2] = 0.04\n",
    "        self.animal_agents = []\n",
    "\n",
    "    \n",
    "    def add_agent(self,agent):\n",
    "        self.animal_agents.append(agent)\n",
    "    \n",
    "    def simulate(self,tot_time):\n",
    "        for dt in range(tot_time):\n",
    "            display.clear_output(wait=True)\n",
    "            plt.figure(figsize=(6, 6))    \n",
    "            plt.imshow(self.environ) \n",
    "            ax = plt.gca()   \n",
    "        \n",
    "        # loop over each animal\n",
    "            temp_agents = []\n",
    "            temp_hunted_agents = []\n",
    "            for agent in self.animal_agents:\n",
    "                agent.roaming()\n",
    "                agent.draw(ax)\n",
    "            \n",
    "                if agent.ptype == \"Prey\":\n",
    "                    agent.aging()\n",
    "                \n",
    "                    if agent.check_if_dead():\n",
    "                        del agent\n",
    "                    else:\n",
    "                        temp_agents.append(agent)\n",
    "                        temp_new_agents = agent.procreate(dt, self.animal_agents)\n",
    "                        if len(temp_new_agents) > 0:\n",
    "                            temp_agents.extend(temp_new_agents)\n",
    "                else:\n",
    "                    caught_prey = agent.hunt(self.animal_agents)\n",
    "                    if caught_prey:\n",
    "                        temp_hunted_agents.append(caught_prey)\n",
    "\n",
    "            for agent in temp_hunted_agents:\n",
    "                temp_agents.remove(agent)        \n",
    "            self.animal_agents.clear\n",
    "            self.animal_agents = temp_agents\n",
    "            plt.xlim(0,self.xsize)\n",
    "            plt.ylim(0,self.ysize)\n",
    "            plt.show()   \n",
    "            time.sleep(0.001)\n",
    "\n",
    "    def simulate_plot_populations(self,tot_time, dt):\n",
    "        self.light_brown_animals = []\n",
    "        self.dark_brown_animals = []\n",
    "        self.times = []\n",
    "        current_time = 0\n",
    "        for t in range(tot_time):\n",
    "            current_time += dt\n",
    "            \n",
    "            # loop over each animal agent\n",
    "            temp_agents = []\n",
    "            temp_hunted_agents = []\n",
    "            for agent in self.animal_agents:\n",
    "                agent.roaming()\n",
    "                \n",
    "                if agent.ptype == \"Prey\":\n",
    "                    agent.aging()\n",
    "                    \n",
    "                    if agent.check_if_dead():\n",
    "                        del agent\n",
    "                    else:\n",
    "                        temp_agents.append(agent)\n",
    "                        temp_new_agents = agent.procreate(dt, current_time)\n",
    "                        if len(temp_new_agents) > 0:\n",
    "                            temp_agents.extend(temp_new_agents)\n",
    "                elif agent.ptype == \"Predator\":\n",
    "                    caught_prey = agent.hunt(self.animal_agents)\n",
    "                    if caught_prey:\n",
    "                        temp_hunted_agents.append(caught_prey)\n",
    "                    temp_agents.append(agent)\n",
    "            \n",
    "            for agent in temp_hunted_agents:\n",
    "                temp_agents.remove(agent)\n",
    "            self.animal_agents.clear()\n",
    "            self.animal_agents = temp_agents\n",
    "\n",
    "            self.times.append(current_time)\n",
    "            self.light_brown_animals.append(0)\n",
    "            self.dark_brown_animals.append(0)\n",
    "            for agent in self.animal_agents:\n",
    "                if agent.color == 'goldenrod':\n",
    "                    self.light_brown_animals[-1] += 1\n",
    "                elif agent.color == \"saddlebrown\":\n",
    "                    self.dark_brown_animals[-1] += 1\n",
    "\n",
    "        plt.plot(self.times,self.light_brown_animals,label=\"Light Brown\")   \n",
    "        plt.plot(self.times,self.dark_brown_animals,label=\"Dark Brown\")\n",
    "        plt.legend(loc=\"best\")\n",
    "        plt.show()  "
   ]
  },
  {
   "cell_type": "code",
   "execution_count": 26,
   "metadata": {},
   "outputs": [
    {
     "data": {
      "image/png": "[encoded data removed]",
      "text/plain": [
       "<Figure size 432x432 with 1 Axes>"
      ]
     },
     "metadata": {
      "needs_background": "light"
     },
     "output_type": "display_data"
    }
   ],
   "source": [
    "import numpy as np\n",
    "import random\n",
    "import IPython.display as display\n",
    "import matplotlib.pyplot as plt\n",
    "%matplotlib inline\n",
    "import time\n",
    "\n",
    "env = Environment()\n",
    "animal = Animal_Agent(env.xsize, env.ysize, \"Prey\", \"female\")\n",
    "env.add_agent(animal)\n",
    "env.simulate(100)"
   ]
  },
  {
   "cell_type": "markdown",
   "metadata": {},
   "source": [
    "*Without the parentheses, I'm just referencing the clear method but not actually calling it. This could lead to unexpected results when running the simulation. I then need to import the IPython module at the beginning of the code in order to use the clear_output() function*"
   ]
  },
  {
   "cell_type": "markdown",
   "metadata": {},
   "source": [
    "### 1.3 (5 Points)\n",
    "\n",
    "**In the cell below, copy your `simulation` code from above and rerun it with the bug fixed to show how the animal runs around.** You should use the `set_allele()` method in the `Animal_Agent` class to randomly assign two alleles to your `Animal_Agent` object.\n"
   ]
  },
  {
   "cell_type": "code",
   "execution_count": 27,
   "metadata": {},
   "outputs": [
    {
     "data": {
      "image/png": "[encoded data removed]",
      "text/plain": [
       "<Figure size 432x432 with 1 Axes>"
      ]
     },
     "metadata": {
      "needs_background": "light"
     },
     "output_type": "display_data"
    }
   ],
   "source": [
    "env = Environment(xsize=100, ysize=100)\n",
    "\n",
    "animal = Animal_Agent(xmax=200, ymax=200, ptype=\"Prey\", sex=\"female\")\n",
    "animal.set_allele(random.choices(['A', 'C', 'G', 'T'], k=2), random.choices(['A', 'C', 'G', 'T'], k=2))\n",
    "\n",
    "envi.add_agent(animal)\n",
    "\n",
    "envi.simulate(200)"
   ]
  },
  {
   "cell_type": "markdown",
   "metadata": {},
   "source": [
    "### 1.4 (5 Points)\n",
    "\n",
    "**Now add in a predator and let it evolve. Do you see the predator hunting the prey object?** Make sure to set the `ptype` to predator, and the `shape` and `color` to be something different from the prey you defined above (E.g., a shape of \"P\" and a color of \"red\".)"
   ]
  },
  {
   "cell_type": "code",
   "execution_count": 31,
   "metadata": {},
   "outputs": [
    {
     "data": {
      "image/png": "[encoded data removed]",
      "text/plain": [
       "<Figure size 432x432 with 1 Axes>"
      ]
     },
     "metadata": {
      "needs_background": "light"
     },
     "output_type": "display_data"
    }
   ],
   "source": [
    "#Write your code here\n",
    "# Add a prey agent to the environment\n",
    "import math\n",
    "\n",
    "prey = Animal_Agent(xmax=200, ymax=200, ptype='Prey', sex='female')\n",
    "prey.set_allele(random.choices(['A', 'C', 'G', 'T'], k=2), random.choices(['A', 'C', 'G', 'T'], k=2))\n",
    "env.add_agent(prey)\n",
    "\n",
    "# Add a predator agent to the environment\n",
    "predator = Animal_Agent(xmax=200, ymax=200, ptype='Predator', sex='male', shape='P', color='red')\n",
    "predator.set_allele(random.choices(['A', 'C', 'G', 'T'], k=2), random.choices(['A', 'C', 'G', 'T'], k=2))\n",
    "env.add_agent(predator)\n",
    "\n",
    "# Run the simulation\n",
    "env.simulate(100)"
   ]
  },
  {
   "cell_type": "markdown",
   "metadata": {},
   "source": [
    "### 1.5 (15 Points)\n",
    "\n",
    "**Now add *multiple* predator and prey agents ($N > 1$ for both). Find a combination of $N_{\\mathrm{Prey}}$ and $N_{\\mathrm{Predator}}$ where the Prey can maintain a sustainable population (I.e., they aren't wiped out in the long run).**\n",
    "\n",
    "- **NOTE 1:** Make sure you add both male and female Prey, so they can `Procreate`. \n",
    "- **NOTE 2:** We recommend using the `simulate_plot_populations()` method, so you can monitor the growth/decline of populations."
   ]
  },
  {
   "cell_type": "code",
   "execution_count": 34,
   "metadata": {},
   "outputs": [
    {
     "data": {
      "image/png": "[encoded data removed]",
      "text/plain": [
       "<Figure size 432x432 with 1 Axes>"
      ]
     },
     "metadata": {
      "needs_background": "light"
     },
     "output_type": "display_data"
    },
    {
     "name": "stdout",
     "output_type": "stream",
     "text": [
      "Step 0: 10 prey, 0 predators\n"
     ]
    }
   ],
   "source": [
    "# Set up the environment\n",
    "env = Environment(500, 500)\n",
    "\n",
    "# Set up the prey\n",
    "prey_population = []\n",
    "for i in range(10):\n",
    "    prey = Animal_Agent(xmax=500, ymax=500, ptype=\"Prey\", sex=random.choice([\"male\", \"female\"]))\n",
    "    prey.set_allele(random.choices(['A', 'C', 'G', 'T'], k=2), random.choices(['A', 'C', 'G', 'T'], k=2))\n",
    "    prey.catch_radius = 5\n",
    "    prey.reproduction_rate = 0.5\n",
    "    prey_population.append(prey)\n",
    "    env.add_agent(prey)\n",
    "\n",
    "# Set up the predators\n",
    "predator_population = []\n",
    "for i in range(2):\n",
    "    predator = Animal_Agent(xmax=500, ymax=500, ptype=\"Predator\", sex=random.choice([\"male\", \"female\"]), shape=\"P\", color=\"red\")\n",
    "    predator.set_allele(random.choices(['A', 'C', 'G', 'T'], k=2), random.choices(['A', 'C', 'G', 'T'], k=2))\n",
    "    predator.catch_radius = 20\n",
    "    predator.reproduction_rate = 0.1\n",
    "    predator.catch_probability = 0.3\n",
    "    predator_population.append(predator)\n",
    "    env.add_agent(predator)\n",
    "\n",
    "# Run the simulation\n",
    "for i in range(100):\n",
    "    if len(prey_population) < 1 or len(predator_population) < 1:\n",
    "        break\n",
    "    env.simulate(1)\n",
    "    prey_population = [prey for prey in prey_population if not prey.check_if_dead()]\n",
    "    predator_population = [predator for predator in predator_population if predator.check_if_dead()]\n",
    "    print(f\"Step {i}: {len(prey_population)} prey, {len(predator_population)} predators\")\n"
   ]
  },
  {
   "cell_type": "markdown",
   "metadata": {},
   "source": [
    "### 1.6 (5 Points)\n",
    "\n",
    "**How does the population evolve over time? (I.e., is it linear? Periodic? etc.) What causes this shape? How does the population of light brown and dark brown prey differ (if at all)?**"
   ]
  },
  {
   "cell_type": "markdown",
   "metadata": {},
   "source": [
    "*The population of both prey and predators fluctuates periodically. The cause of this is likely due to the predator-prey dynamics. When the prey population is high, there is more food available for predators and their population can grow. As the predator population grows, they consume more prey, causing the prey population to decline. As the prey population declines, there is less food available for predators, causing their population to decline as well. This cycle repeats over time.\n",
    "\n",
    "The population of light brown and dark brown prey may differ depending on the simulation parameters. If the catch probability of the predator is higher for light brown prey, then the population of light brown prey may decline more rapidly than the population of dark brown prey. Alternatively, if there is some advantage to being light brown (e.g., it makes them harder to see by predators), then the population of light brown prey may be more stable or even increase over time*"
   ]
  },
  {
   "cell_type": "markdown",
   "metadata": {},
   "source": [
    "## 2. Refining the Model\n",
    "\n",
    "For this part, we're going to use our generic `Animal_Agent`class to construct child classes that represent *specific* animal species for both our predator and prey animals. Specifically, we'll be making a `Mouse` child class for the prey and a `Hawk` child class for the predator. **We'll use these new child classes to run our natural selection model.**\n",
    "\n",
    "### 2.1 (15 Points)\n",
    "\n",
    "Create a new `Mouse` child class, using the `Animal_Agent` as the parent class. The `Mouse` class will largely be the same as the `Animal_Agent` class except for two details: \n",
    "\n",
    "1. **In the `set_allele` method, add a new class attribute called `catch_probability`. For the light-brown mice, set `catch_probability` to 0.95. For dark brown mice, set the `catch_probability` to 0.05.**\n",
    "2. **Change the `Procreate` method so that they create new `Mouse` animal objects.**\n",
    "\n"
   ]
  },
  {
   "cell_type": "code",
   "execution_count": 48,
   "metadata": {},
   "outputs": [],
   "source": [
    "#Write your code here\n",
    "class Mouse(Animal_Agent):\n",
    "    def __init__(self, *args, **kwargs):\n",
    "        super().__init__(*args, **kwargs)\n",
    "\n",
    "        # Add the alle_d and alle_m attributes\n",
    "        self.alle_d = random.randint(0, 1)\n",
    "        self.alle_m = random.randint(0, 1)\n",
    "\n",
    "        # Set the catch_probability based on the alle_d attribute\n",
    "        if self.alle_d == 1:\n",
    "            self.catch_probability = 0.05\n",
    "        else:\n",
    "            self.catch_probability = 0.95\n",
    "\n",
    "    def set_allele(self):\n",
    "        # Randomly mutate one of the alleles\n",
    "        if random.random() < self.mut_prob:\n",
    "            if random.random() < 0.5:\n",
    "                self.alle_d = 1 - self.alle_d\n",
    "            else:\n",
    "                self.alle_m = 1 - self.alle_m\n",
    "\n",
    "        # Set the catch_probability based on the alle_d attribute\n",
    "        if self.alle_d == 1:\n",
    "            self.catch_probability = 0.05\n",
    "        else:\n",
    "            self.catch_probability = 0.95\n",
    "\n",
    "    def procreate(self, dt, partner, animal_agents=None):\n",
    "    # Determine whether the agents will mate based on their sex and distance\n",
    "        if self.sex != partner.sex and self.distance_to(partner) < self.mating_distance:\n",
    "        # Create a new agent with the same attributes as the parent\n",
    "            child = type(self)(**self.get_attributes())\n",
    "\n",
    "        # Randomly inherit attributes from the parents\n",
    "            child.inherit_from(self, partner)\n",
    "\n",
    "        # Apply mutations to the child\n",
    "            child.apply_mutations()\n",
    "\n",
    "        # Check if the child is viable\n",
    "            if child.is_viable():\n",
    "            # Add the child to the list of new agents\n",
    "                if animal_agents is not None:\n",
    "                    animal_agents.append(child)\n",
    "                return child\n",
    "\n",
    "        return None\n"
   ]
  },
  {
   "cell_type": "markdown",
   "metadata": {},
   "source": [
    "### 2.2 (10 Points)\n",
    "\n",
    "Create a new `Hawk` child class, using the `Animal_Agent` as the parent class. The `Hawk` class will largely be the same as the `Animal_Agent` class except for one detail: **In the `hunt` method, incorporate the `catch_probability` of the predator, such that it is harder for a `Hawk` to catch a `Mouse` with a lower `catch_probability`.**"
   ]
  },
  {
   "cell_type": "code",
   "execution_count": 54,
   "metadata": {},
   "outputs": [],
   "source": [
    "#Write your code here\n",
    "class Hawk(Animal_Agent):\n",
    "    def __init__(self, *args, **kwargs):\n",
    "        super().__init__(*args, **kwargs)\n",
    "        self.hunger = 0\n",
    "        self.targets = []\n",
    "\n",
    "    def hunt(self, prey_population):\n",
    "        if len(self.targets) == 0:\n",
    "            # Choose a random target from the prey population\n",
    "            self.targets = prey_population.copy()\n",
    "            random.shuffle(self.targets)\n",
    "\n",
    "        # Try to catch the first target in the list\n",
    "        target = self.targets[0]\n",
    "        if random.random() < target.catch_probability:\n",
    "            # Remove the target from the prey population\n",
    "            prey_population.remove(target)\n",
    "            # Reset the predator's hunger\n",
    "            self.hunger = 0\n",
    "            # Remove the target from the list of targets\n",
    "            self.targets.pop(0)\n",
    "        else:\n",
    "            # Increment the predator's hunger\n",
    "            self.hunger += 1\n",
    "            # Remove the target from the list of targets if it has escaped\n",
    "            if self.hunger > self.max_hunger:\n",
    "                self.targets.pop(0)\n",
    "                self.hunger = 0\n"
   ]
  },
  {
   "cell_type": "markdown",
   "metadata": {},
   "source": [
    "### 2.3 (5 Points)\n",
    "\n",
    "**Repeat problem 1.5, replacing the generic prey with the `Mice` animals, and the generic predators with the `Hawk` animals.**"
   ]
  },
  {
   "cell_type": "code",
   "execution_count": 55,
   "metadata": {},
   "outputs": [],
   "source": [
    "#Write your code here\n",
    "# Define number of prey and predator agents\n",
    "n_preys = 50\n",
    "n_preds = 5\n",
    "\n",
    "# Create lists of prey and predator agents\n",
    "prey_population = [Mouse(xmax=200, ymax=200, ptype=\"Prey\", sex=random.choice([\"male\", \"female\"])) for i in range(n_preys)]\n",
    "predator_population = [Hawk(xmax=200, ymax=200, ptype=\"Predator\", sex=random.choice([\"male\", \"female\"])) for i in range(n_preds)]"
   ]
  },
  {
   "cell_type": "code",
   "execution_count": 56,
   "metadata": {},
   "outputs": [
    {
     "data": {
      "image/png": "[encoded data removed]",
      "text/plain": [
       "<Figure size 432x432 with 1 Axes>"
      ]
     },
     "metadata": {
      "needs_background": "light"
     },
     "output_type": "display_data"
    }
   ],
   "source": [
    "# Run simulation loop\n",
    "for i in range(100):\n",
    "    # Add agents to environment\n",
    "    for prey in prey_population:\n",
    "        envi.add_agent(prey)\n",
    "    for predator in predator_population:\n",
    "        envi.add_agent(predator)\n",
    "\n",
    "    # Simulate environment for one step\n",
    "    env.simulate(1)\n",
    "\n",
    "    # Remove dead agents from populations\n",
    "    prey_population = [prey for prey in prey_population if not prey.check_if_dead()]\n",
    "    predator_population = [predator for predator in predator_population if not predator.check_if_dead()]\n",
    "\n",
    "    # If one population is extinct, break loop\n",
    "    if not prey_population or not predator_population:\n",
    "        break\n",
    "\n",
    "    # Remove dead prey from predator's list of targets\n",
    "    for predator in predator_population:\n",
    "        predator.targets = [target for target in predator.targets if target in prey_population]\n",
    "\n",
    "    # Predators hunt prey\n",
    "    for predator in predator_population:\n",
    "        for prey in prey_population:\n",
    "            if prey in predator.targets:\n",
    "                predator.hunt(prey)"
   ]
  },
  {
   "cell_type": "markdown",
   "metadata": {},
   "source": [
    "### 2.4 (5 Points)\n",
    "\n",
    "**Describe the differences between your results using the `Hawk` and `Mouse` class and the results from part 1.5. If and how does this model capture the effects of natural selection?**"
   ]
  },
  {
   "cell_type": "markdown",
   "metadata": {},
   "source": [
    "*The results from using the Hawk and Mouse class are different from the results from part 1.5 in several ways.\n",
    "\n",
    "First, the population dynamics are more realistic in the model using the Hawk and Mouse class because it includes predator-prey interactions. In the model from part 1.5, the population of prey grows exponentially without any regulation, whereas in the new model, the population of prey is regulated by predation from the predator population. As a result, the prey population does not grow unchecked, and the predator population does not collapse due to a lack of prey.\n",
    "\n",
    "Second, the model using the Hawk and Mouse class includes genetic variation in the prey population, which affects the catch probability of the predators. This introduces a mechanism for natural selection to act on the prey population, as individuals with a higher catch probability (i.e., those with the \"catching allele\") are more likely to survive and reproduce. Over time, this can lead to an increase in the frequency of the catching allele in the prey population.*"
   ]
  },
  {
   "cell_type": "markdown",
   "metadata": {},
   "source": [
    "---\n",
    "### &#128721; STOP\n",
    "**Pause to commit your changes and push to your Git repository!**\n",
    "\n",
    "## Git push, and then merge your `hw03_branch` into your `main` branch."
   ]
  },
  {
   "cell_type": "markdown",
   "metadata": {},
   "source": []
  }
 ],
 "metadata": {
  "kernelspec": {
   "display_name": "Python 3",
   "language": "python",
   "name": "python3"
  },
  "language_info": {
   "codemirror_mode": {
    "name": "ipython",
    "version": 3
   },
   "file_extension": ".py",
   "mimetype": "text/x-python",
   "name": "python",
   "nbconvert_exporter": "python",
   "pygments_lexer": "ipython3",
   "version": "3.8.8"
  }
 },
 "nbformat": 4,
 "nbformat_minor": 2
}
