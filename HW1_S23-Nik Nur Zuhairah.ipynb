{
 "cells": [
  {
   "cell_type": "markdown",
   "metadata": {
    "id": "oaGzBYqYZa9f"
   },
   "source": [
    "# Homework Assignment 1 (Individual)\n",
    "## Git practice, debugging practice, and new Python packages"
   ]
  },
  {
   "cell_type": "markdown",
   "metadata": {
    "id": "CPPmlZrQZcAQ"
   },
   "source": [
    "### <p style=\"text-align: right;\"> &#9989; Nik Nur Zuhairah Binti Nik Zulkiflee</p>\n",
    "### <p style=\"text-align: right;\"> &#9989; nikzuhairah</p>"
   ]
  },
  {
   "cell_type": "markdown",
   "metadata": {
    "id": "iQj_paJ9ZdmJ"
   },
   "source": [
    "\n",
    "### Goals for this homework assignment\n",
    "By the end of this assignment, you should be able will:\n",
    "* Demonstrate the purpose and utility of Git and demonstrate a workflow in practice.\n",
    "* Use Git to create a repository, track changes to the files within the repository, and push those changes to a remote repository.\n",
    "* Articulate the most common debugging strategies\n",
    "* Debug some basic Python code.\n",
    "* Read documentation and example code to use a new Python package\n",
    "\n",
    "Work through the following assignment, making sure to follow all of the directions and answer all of the questions.\n",
    "\n",
    "There are **100 points** possible on this assignment. Point values for each part are included in the section headers and question prompts.\n",
    "\n",
    "**This assignment is due roughly two weeks from now at 11:59 pm on Friday, February 3rd.** It should be uploaded into the \"Homework Assignments\" submission folder for Homework #1 on D2L.  Submission instructions can be found at the end of the notebook. "
   ]
  },
  {
   "cell_type": "markdown",
   "metadata": {
    "id": "-lMRNRFDZBlh"
   },
   "source": [
    "# Part 0: Office Hours and Academic Integrity (10 points)\n",
    "\n",
    "## Academic integrity statement (2 Points)\n",
    "\n",
    "In the markdown cell below, paste your personal academic integrity statement. By including this statement, you are confirming that you are submitting this as your own work and not that of someone else.\n"
   ]
  },
  {
   "cell_type": "markdown",
   "metadata": {
    "id": "dyaVnz36ZDhX"
   },
   "source": [
    "<font size=6 color=\"#009600\">&#9998;</font> *I pledge that I have followed Michigan State University’s policy on academic integrity as well as the specific instructions for this coursework. I affirm that this exam represents my own work, without the use of any unpermitted aids or resources. I understand that there will no tolerance towards academic dishonesty, and that cheating can and will lead to automatic failure from the class as well as a report to the Academic Integrity Committee."
   ]
  },
  {
   "cell_type": "markdown",
   "metadata": {
    "id": "FpV1F8X5ZGyn"
   },
   "source": [
    "## Going to Office Hours (8 Points)\n",
    "\n",
    "### Why are we doing this?\n",
    "We want to make sure that everyone knows how to access the resources\n",
    "available to you. One of the best resources you have at your disposal is office hours.\n",
    "\n",
    "### What will you do?\n",
    "(At minimum) Go to one office hour session ​(it doesn’t matter which one you go to). Come with one question that you would like to talk about. It can be big or small. Ask your question. All of the instructors for CMSE 202 (section leads, TAs, and LAs) will be adding to a running list of folks that we see during office hours; as long as your name appears on the list, you’ll get credit for this part of Homework 1.\n",
    "\n",
    "**NOTE:** The day when the homework is due (**Friday, February 3rd**) will be the busiest time for folks to go to office hours. You are **STRONGLY** encouraged to go to office hours before Friday to get credit for this part of this assignment. (You should still feel free to go to office hours on Friday for help, though!)\n",
    "\n",
    "You can find the office hours calendar on the [course website](https://cmse.msu.edu/cmse202)."
   ]
  },
  {
   "cell_type": "markdown",
   "metadata": {
    "id": "Ycc8us9qZRbQ"
   },
   "source": [
    "**&#9989; **Question 0.1 (8 points)****\n",
    "\n",
    "Type below the question you asked."
   ]
  },
  {
   "cell_type": "markdown",
   "metadata": {
    "id": "QHtvFWdQZSkF"
   },
   "source": [
    "<font size=6 color=\"#009600\">&#9998;</font> *How can I push the GitHub made of the text editor to the main Github*"
   ]
  },
  {
   "cell_type": "markdown",
   "metadata": {
    "id": "Ouu4YtGnRm_2"
   },
   "source": [
    "# Part 1: Designing a Workflow with Git (30 points total)\n",
    "\n",
    "You have spent some time in class learning about how/why we use git in CMSE 202 and beyond, and you will be expected to use it throughout the semester.\n",
    "\n",
    "## 1.1 Propose a Software Development Workflow (10 points)\n",
    "\n",
    "You are working collaboratively with a team on a research project that includes developing code as well as writing a paper to communicate your results, and you need to ensure that all work is managed and tracked with git. Since you are learning about git in your class, your groupmates have asked you to propose a software development workflow for this project. Here, workflow is defined as the process by which the project is managed and developed.\n",
    "\n",
    "Your workflow must (at least) handle the following:\n",
    "1. What role (or roles) will each person have?\n",
    "2. How will changes be made/tracked?\n",
    "3. What are your requirements for commit messages?\n",
    "4. How do you expect people to work on their portions of the projects (using branches/merges)?\n",
    "\n",
    "In the cell below, write down the guidelines for your proposed workflow, making sure to account for all of the items mentioned above.\n"
   ]
  },
  {
   "cell_type": "markdown",
   "metadata": {
    "id": "GFkl_ExSWFv7"
   },
   "source": [
    "<font size=+3>&#9998;</font> Write your proposed workflow here.\n",
    "1. One person will be the master that will then managed the main branch. Each other members will made changes in their own branches made and then push the changes made to the main branch.\n",
    "2. Changes can be made in every member's specific branch. Changes can be tracked by using git commit. git commit command will allow the member to tell specifically what the changes made, and the time made for changes. Each member will then need to push the changes made to the main branch.\n",
    "3. The requirements for committing messages are the person who made changes need to tell the changes made and how the changes made will affect the whole code made. The person also need to tell if there's any follow up changes that need to be done if there's an error pop up. \n",
    "4. I expect people to work on their portions respectively using branches. In case of any error or bug pop up, the owner of the portions shall request for any other person in the group to inspect on the bug. The person receiving the help shall put the credit in the works received. "
   ]
  },
  {
   "cell_type": "markdown",
   "metadata": {
    "id": "Jvto9V5XWBHu"
   },
   "source": [
    "\n",
    "\n",
    "\n",
    "## 1.2 Testing Your Workflow (10 points)\n",
    "\n",
    "In the cell(s) below, demonstrate that your workflow works by performing (or answering) the following tests:\n",
    "\n",
    "1. A new person is joining your team, but they have never coded before and are concerned about making changes that might break your code. According to your workflow, what should their role be, and how should they make changes to the code?\n",
    "2. Using vi (or your favorite text editor), create a file called paper_draft.txt. Following your workflow, make and commit changes to that file. Copy and paste any command line interface commands you use in the cell below.\n",
    "\n",
    "\n",
    "\n",
    "\n"
   ]
  },
  {
   "cell_type": "markdown",
   "metadata": {
    "id": "oOFbq1cLZZWR"
   },
   "source": [
    "<font size=+3>&#9998;</font>  As the person dont have any coding experience, I would suggest to assign the person to be given a smallest portions of the whole code project. The person should be assigned with a mentor for the person to refer in case of any error occured. The person should be assigned as the other member, doing his/her own portions of the project so that he will get used to the project."
   ]
  },
  {
   "cell_type": "code",
   "execution_count": 1,
   "metadata": {
    "id": "Cyo2eBLHZeWW"
   },
   "outputs": [],
   "source": [
    "# put any code here (feel free to add additional cell)\n",
    " # cd cmse202\n",
    " # cd repository\n",
    " # git branch zuhairah\n",
    " # git checkout zuhairah\n",
    " # vi paper_text.git\n",
    " # git add paper_text.git\n",
    " # git commit -m 'formatting'\n",
    " # git remote add paper_text.git https://github.com/nikzuhairah/paper_text.git\n",
    " # git push --set-upstream paper_text.git zuhairah"
   ]
  },
  {
   "cell_type": "markdown",
   "metadata": {
    "id": "ZRnZNfSsXRIv"
   },
   "source": [
    "## 1.3 Reflecting (10 points)\n",
    "\n",
    "Answer the following questions in the cell below about your workflow:\n",
    "\n",
    "1. What challenges/bugs did you run into when testing your workflow? How might you design for them in the future?\n",
    "2. What worked well with your workflow?"
   ]
  },
  {
   "cell_type": "markdown",
   "metadata": {
    "id": "Lr1LmKb9aSdm"
   },
   "source": [
    "<font size=+3>&#9998;</font> 1. I am not able to push just how I did in in class assignments. Instead, I used the git remote add (name of file) (url of file) and then git push (name of file)\n",
    "2. the git push --set-upstream paper_text.git zuhairah works with the bug I had before."
   ]
  },
  {
   "cell_type": "markdown",
   "metadata": {
    "id": "cImTyMz-W_jX"
   },
   "source": [
    "## &#128721; STOP **COMMIT YOUR WORK TO GIT NOW**\n",
    "\n",
    "You should commit early and often, but at least do it after you complete each homework problem. \n",
    "\n",
    "Make sure to use meaningful commit messages that indicate the changes you have made!"
   ]
  },
  {
   "cell_type": "markdown",
   "metadata": {
    "id": "CPTa3YYWYjJG"
   },
   "source": [
    "# Part 2: Debugging Code (30 points total)\n",
    "\n",
    "Bugs are a part of life in writing code. They do not mean you are not making progress at coding. However, you can employ various debugging strategies to help you work through bugs efficiently and confidently.\n",
    "\n",
    "## 2.1 Helping a CMSE 201 Student (10 points)\n",
    "\n",
    "In the cell below, explain debugging to a CMSE 201 student, and describe the process you would recommend they use to debug their code. You must include how you would solve the various types of bugs you can encounter while coding. Remember all of the resources you can use in CMSE 201/202 (particularly Google or other search engines!).\n",
    "\n"
   ]
  },
  {
   "cell_type": "markdown",
   "metadata": {
    "id": "UslFH5ffbX80"
   },
   "source": [
    "<font size=+3>&#9998;</font> To debug the bug you found when writing a code, a person should go to the line at which the bug is found. The Shift-L feature in Jupyter Notebooks is super helpful in identifying the source of error found. When you had found where the error is, you have to first understand the bug. You may google the error you had so that you can clearly get the idea what python had found for you. It is crucial as without clearly understand what the error is, a person might stuck to the same problem and bug at a longer time. Next, you have to sort out with a plan of solving the problem. We can come out with a more simple input just to make test wether the bug comes from the complicated input or the code build itself. With that, we can know kind of sort how to change the input so that it fits the code build or if the latter happen we can slowly start to fixing the code. Next, we can apply all the probablity we found as the source of the error and try to fix the bug found. Lastly, we can check back with what we done, either it fix the bug found or does the things we made go to more bugs found. On top of that, it is always crucial to refer to the professors and also the TA's and LA's whenever you need. Your teammates and classmates can also be source of help in time of need.  "
   ]
  },
  {
   "cell_type": "markdown",
   "metadata": {
    "id": "91ouG6LrbYAZ"
   },
   "source": [
    "## 2.2 Working Through Bugs (20 points total)\n",
    "\n",
    "### 2.2.1 A Squirrelly Situation (10 points)\n",
    "\n",
    "Run the code in the cell below. There is (at least) 1 bug to find and fix! Complete the following questions:\n",
    "\n",
    "1. Apply your debugging process to solve the bug(s) (showing the corrected code).\n",
    "2. Did your process work? If so, continue to the next problem. If not, describe why and indicate any changes you would make to your process.\n",
    "\n",
    "\n"
   ]
  },
  {
   "cell_type": "code",
   "execution_count": 2,
   "metadata": {
    "colab": {
     "base_uri": "https://localhost:8080/"
    },
    "id": "QDp4prBRg9Wn",
    "outputId": "0bddf470-9d92-4f7e-e8c4-39b3a83b4e2f"
   },
   "outputs": [
    {
     "name": "stdout",
     "output_type": "stream",
     "text": [
      "16\n"
     ]
    }
   ],
   "source": [
    "# function that returns a random number of squirrels spotted between 0 and the limit\n",
    "def squirrel_spotting_simulation(limit=15):\n",
    "    import numpy as np\n",
    "    random_squirrels = np.random.randint(limit)\n",
    "    return random_squirrels\n",
    "\n",
    "# initialize number of squirrels\n",
    "squirrel_count = 0\n",
    "# initialize number of time steps\n",
    "t = 0\n",
    "\n",
    "# loop until the observer reaches a maximum of 100 squirrels spotted\n",
    "while squirrel_count <= 100:\n",
    "    # use our function to generate a random number of squirrels spotted\n",
    "    increment = squirrel_spotting_simulation(15)\n",
    "    # increment the number of time steps by 1\n",
    "    t+=1\n",
    "    # add the number of random squirrels this time step to the total number\n",
    "    squirrel_count+=increment\n",
    "\n",
    "# print the total number of timesteps it took\n",
    "print(t)"
   ]
  },
  {
   "cell_type": "markdown",
   "metadata": {
    "id": "9DFy6pqkg84W"
   },
   "source": [
    "<font size=+3>&#9998;</font> The numpy random randint should be set to the limit"
   ]
  },
  {
   "cell_type": "markdown",
   "metadata": {
    "id": "v3dwJ0nueFJ9"
   },
   "source": [
    "## 2.2.2 Plotting and Scheming\n",
    "\n",
    "Run the code in the cell below, then answer the following questions:\n",
    "set_xlabel vs. label\n",
    "\n",
    "\n",
    "1. Apply your debugging process to solve the bug (showing the corrected code).\n",
    "2. Did your process work? If so, continue to the next problem. If not, describe why and indicate any changes you would make to your process."
   ]
  },
  {
   "cell_type": "code",
   "execution_count": 16,
   "metadata": {
    "id": "KvwNCSVWtEhP"
   },
   "outputs": [
    {
     "data": {
      "image/png": "[encoded data removed]",
      "text/plain": [
       "<Figure size 432x288 with 1 Axes>"
      ]
     },
     "metadata": {
      "needs_background": "light"
     },
     "output_type": "display_data"
    }
   ],
   "source": [
    "# code to plot two randomly generated data sets (sin and cos) on one plot\n",
    "\n",
    "import matplotlib.pyplot as plt\n",
    "import numpy as np\n",
    "\n",
    "# generate some x data: sixty data points from 0 to 4π\n",
    "x_sin = np.linspace(0,4*np.pi,60)\n",
    "\n",
    "# generate some y data: 1.5 * sin(1.2x + 0.5)\n",
    "# we add the np.random.normal(0.25,.25,60) at the end to add some randomness to the data\n",
    "y_sin = 1.5 * np.sin(1.2 * x_sin) + np.random.normal(.25,.25,60)\n",
    "\n",
    "y_cos = 1.5 * np.cos(1.2 * x_sin) + np.random.normal(.25,.25,60)\n",
    "# plot our data\n",
    "plt.scatter(x_sin, y_sin, label = \"sin data\")\n",
    "plt.scatter(x_sin, y_cos, label = 'cos data') # the second plot command should be right after the first plot command\n",
    "plt.xlabel('x')\n",
    "plt.ylabel('y')\n",
    "plt.legend() # the plot.legend() command should be before the plt.show(command)\n",
    "plt.show()\n"
   ]
  },
  {
   "cell_type": "markdown",
   "metadata": {
    "id": "gdi1OLFurcgn"
   },
   "source": [
    "<font size=+3>&#9998;</font> The second plot shall be commanded right after the first plot command. The plot.legend() should be commanded before the plot.show() command"
   ]
  },
  {
   "cell_type": "markdown",
   "metadata": {
    "id": "w0jXfIeUpgty"
   },
   "source": [
    "## &#128721; STOP **COMMIT YOUR WORK TO GIT NOW**\n",
    "\n",
    "You should commit early and often, but at least do it after you complete each homework problem."
   ]
  },
  {
   "cell_type": "markdown",
   "metadata": {
    "id": "-y69UHzUdSEp"
   },
   "source": [
    "# Part 3: New Packages (25 points total)\n",
    "\n",
    "In Part 1, you developed a workflow for the project your team is working on. One of your team members found this package that will help with some of the visualizations, however you discover that you don't currently have this package installed. \n",
    "\n",
    "A quick Google search tells you that the plotly Python library is an interactive, open-source plotting library that supports over 40 unique chart types covering a wide range of statistical, financial, geographic, scientific, and 3-dimensional use-cases. Sounds great, let's figure this out!\n",
    "\n",
    "## 3.1 Install Package using CLI\n",
    "You remember from class that you can install packages using the command line. Using your terminal, install the plotly package, then answer the following questions.\n",
    "\n",
    "### 3.1.1 (5 points): \n",
    "\n",
    "In the cell below, write down the command you used to install the package. "
   ]
  },
  {
   "cell_type": "markdown",
   "metadata": {
    "id": "fPWkcX5F0Xnw"
   },
   "source": [
    "<font size=6 color=\"#009600\">&#9998;</font> *!pip install plotly*"
   ]
  },
  {
   "cell_type": "code",
   "execution_count": 4,
   "metadata": {},
   "outputs": [
    {
     "name": "stdout",
     "output_type": "stream",
     "text": [
      "Defaulting to user installation because normal site-packages is not writeable\n",
      "Requirement already satisfied: plotly in /opt/anaconda3/lib/python3.8/site-packages (5.10.0)\n",
      "Requirement already satisfied: tenacity>=6.2.0 in /opt/anaconda3/lib/python3.8/site-packages (from plotly) (8.0.1)\n"
     ]
    }
   ],
   "source": [
    "!pip install plotly"
   ]
  },
  {
   "cell_type": "markdown",
   "metadata": {},
   "source": [
    "# IMPORTANT NOTE\n",
    "\n",
    "Particularly if you are using JupyterHub, you may get a message similar to this one in your terminal:\n",
    "\n",
    "![package_exists.jpg](https://raw.githubusercontent.com/msu-cmse-courses/cmse202-S23-data/main//HW/HW1/package_exists.jpg)\n",
    "\n",
    "This means that the package has already been installed. If that is the case, you still need to provide the command you *would* use to install the package above, and then proceed to the rest of this problem.\n"
   ]
  },
  {
   "cell_type": "markdown",
   "metadata": {
    "id": "NUzK-Xa-0Fid"
   },
   "source": [
    "### 3.2 Reading Package Documentation\n",
    "\n",
    "Now that you've installed Plotly, its time to explore the package! What can this package do? The best place to find this information is in the [documentation](https://plotly.com/). \n",
    "\n",
    "### 3.2.1 (10 points): \n",
    "\n",
    "Answer the following questions:\n",
    "1. What kind of package is Plotly? (e.g. Mathematical, Graphing, Statistical, etc.)?  \n",
    "2. How many different tabs exist in the Plotly Open Source Graphing Libraries?\n",
    "3. When would you use Plotly?\n",
    "4. Are there any packages you know that are similar to plotly?\n",
    "5. What are some different charts/plots you can create with Plotly?\n"
   ]
  },
  {
   "cell_type": "markdown",
   "metadata": {
    "id": "wr6SQ5kI_lrz"
   },
   "source": [
    "<font size=6 color=\"#009600\">&#9998;</font> *1. Plotly is Graphing. 2. 10 different tab exist with basic charts, group by in python, smoothing, filter in python, range slider and selector in python, table and chart subplots in python, plot csv data, scatter plots in python, histograms in python, 3D surface plots in python. 3. I will used Plotly to make graphing library that are interactive to produce a publication-quality graphs. 4. Zoho analytics, Ortto Our, OpenLayers. 5. Some different charts and plots we can create with Plotly are line plot, scatter plot, area plot, histogram, box plot, bar plot.*"
   ]
  },
  {
   "cell_type": "markdown",
   "metadata": {
    "id": "vPiM9hCV_lKw"
   },
   "source": [
    "### 3.3 Using The New Package\n",
    "Finally, it's time to use the newly installed package! Pick a dataset from the [data package](https://plotly.com/python-api-reference/generated/plotly.data.html) that is a part of Plotly. \n",
    "\n",
    "\n",
    "### 3.3.1 (10 points):\n",
    "\n",
    "Create a graph using one of these datasets. You can use the documentation for inspiration, but try to change the variables around so you get to really experience the package! Make sure to include titles and axis labels!\n",
    "\n"
   ]
  },
  {
   "cell_type": "code",
   "execution_count": 5,
   "metadata": {},
   "outputs": [],
   "source": [
    "import plotly\n",
    "carshare = plotly.data.carshare()\n",
    "carshare\n",
    "stocks = plotly.data.stocks()\n",
    "import plotly.express as px"
   ]
  },
  {
   "cell_type": "code",
   "execution_count": 14,
   "metadata": {},
   "outputs": [
    {
     "data": {
      "application/vnd.plotly.v1+json": {
       "config": {
        "plotlyServerURL": "https://plot.ly"
       },
       "data": [
        {
         "hovertemplate": "car_hours=%{marker.color}<br>peak_hour=%{y}<extra></extra>",
         "legendgroup": "",
         "marker": {
          "color": [
           1772.7499999995052,
           986.3333333335024,
           354.74999999998914,
           560.166666666642,
           2836.666666667356,
           1022.7500000001857,
           835.7500000001006,
           1888.3333333327332,
           1030.75000000018,
           1841.1666666661097,
           1966.166666665996,
           1532.9999999997233,
           834.1666666667666,
           289.0000000000041,
           273.58333333334093,
           594.8333333333244,
           1020.9166666668516,
           1428.4999999998183,
           670.7500000000256,
           489.4999999999585,
           1426.3333333331536,
           422.49999999997374,
           1624.7499999996398,
           732.7500000000538,
           1969.6666666659928,
           1657.9999999996096,
           665.5833333333566,
           805.08333333342,
           217.75000000000728,
           1332.583333333239,
           630.5000000000073,
           559.9999999999752,
           456.1666666666328,
           1185.8333333333724,
           1112.6666666667722,
           1016.5833333335162,
           1367.249999999874,
           1767.9999999995096,
           2291.9999999996985,
           552.8333333333053,
           1397.9166666665128,
           997.7500000001744,
           926.1666666668084,
           323.166666666663,
           833.0833333334327,
           1394.416666666516,
           601.7499999999942,
           1724.4999999995491,
           1061.5833333334854,
           325.74999999999574,
           1271.5833333332944,
           1951.0833333326764,
           961.4166666668244,
           507.83333333328767,
           679.6666666666963,
           734.833333333388,
           1057.4166666668225,
           262.8333333333434,
           1302.7499999999327,
           345.8333333333245,
           1543.3333333330472,
           630.7500000000074,
           1164.5833333333917,
           1676.9999999995923,
           1282.5833333332844,
           1019.000000000184,
           1719.1666666662206,
           681.5000000000305,
           287.66666666667106,
           1559.333333333033,
           627.4166666666725,
           1863.7499999994225,
           867.2500000001149,
           2413.4999999999195,
           1322.3333333332482,
           3274.0000000014848,
           1558.9166666663664,
           1902.416666666054,
           1609.166666666321,
           2773.250000000574,
           1940.6666666660192,
           1597.4999999996646,
           162.500000000001,
           1929.0833333326964,
           847.0000000001057,
           1522.7499999997326,
           635.3333333333428,
           2057.166666665938,
           845.9166666667719,
           2022.9166666659444,
           1598.7499999996635,
           566.8333333333117,
           1714.1666666662252,
           680.50000000003,
           1043.2500000001687,
           673.3333333333601,
           1105.750000000112,
           1382.9999999998597,
           531.4999999999623,
           635.0000000000093,
           2376.833333333186,
           462.4166666666313,
           1315.6666666665876,
           504.4166666666218,
           741.2500000000576,
           867.3333333334483,
           875.5833333334521,
           2188.1666666661763,
           1172.8333333333842,
           332.4999999999942,
           1351.749999999888,
           966.25000000016,
           981.750000000167,
           1714.3333333328917,
           813.833333333424,
           863.7500000001133,
           1202.1666666666908,
           665.0833333333563,
           2433.83333333329,
           1189.0000000000362,
           2298.583333333044,
           1414.9166666664971,
           476.4999999999615,
           766.3333333334024,
           2338.249999999782,
           1170.500000000053,
           716.0000000000462,
           1228.083333333334,
           511.8333333332868,
           1357.3333333332164,
           1144.0833333334103,
           292.5000000000033,
           1069.0833333334783,
           1552.333333333039,
           1029.9166666668475,
           2752.83333333387,
           2077.1666666659744,
           1167.8333333333887,
           658.2500000000199,
           741.7500000000579,
           520.4166666666239,
           2127.4999999993997,
           1093.2500000001232,
           1590.4166666663375,
           696.4166666667039,
           1286.8333333332805,
           1489.1666666664298,
           1796.91666666615,
           1298.2499999999368,
           921.583333333473,
           605.5833333333293,
           1245.1666666666515,
           1261.9166666666365,
           1705.4999999995664,
           1363.999999999877,
           790.9166666667469,
           1067.7500000001464,
           1320.4999999999166,
           1317.416666666586,
           1404.3333333331736,
           648.6666666666822,
           309.7499999999994,
           484.9999999999595,
           439.3333333333032,
           814.1666666667575,
           1264.4166666666342,
           655.583333333352,
           342.66666666665856,
           626.5000000000055,
           1059.9166666668202,
           321.66666666666333,
           676.4166666666948,
           201.9166666666721,
           1223.916666666671,
           1687.4166666662495,
           1112.583333333439,
           466.7499999999637,
           785.0833333334109,
           1800.833333332813,
           1364.5833333332098,
           2299.7499999997126,
           1038.7500000001728,
           722.8333333333826,
           1706.999999999565,
           1231.7499999999973,
           967.833333333494,
           1386.5833333331898,
           192.41666666667103,
           291.3333333333369,
           1370.9166666665374,
           605.4999999999959,
           194.08333333333792,
           538.7499999999656,
           33.24999999999985,
           1792.749999999487,
           737.0833333333891,
           1153.7500000000682,
           886.0000000001235,
           955.6666666668218,
           1071.2500000001432,
           748.2500000000608,
           1487.8333333330977,
           835.7500000001006,
           889.0000000001248,
           1337.4166666665678,
           1137.3333333334165,
           966.25000000016,
           1034.0000000001771,
           1499.6666666664205,
           503.58333333328864,
           894.9166666667942,
           1749.4166666661931,
           1879.749999999408,
           635.1666666666761,
           777.0833333334073,
           1202.9166666666902,
           560.4999999999754,
           790.3333333334133,
           797.5833333334166,
           1156.5000000000657,
           1462.9166666664537,
           1168.0833333333885,
           456.24999999996606,
           1019.7500000001844,
           1167.166666666723,
           478.0833333332944,
           1599.7499999996626,
           1578.0833333330156,
           494.49999999995737,
           1705.1666666662334,
           947.6666666668182,
           114.49999999999784,
           759.4166666667326,
           1567.6666666663584,
           547.9999999999698,
           978.3333333334988,
           673.08333333336,
           1354.666666666552,
           1355.1666666665517,
           898.0000000001289,
           701.6666666667063,
           873.1666666667843,
           235.41666666667595,
           998.6666666668414,
           951.41666666682,
           795.4166666667489,
           425.749999999973,
           1044.8333333335006,
           694.9166666667032
          ],
          "coloraxis": "coloraxis",
          "symbol": "circle"
         },
         "mode": "markers",
         "name": "",
         "orientation": "v",
         "showlegend": false,
         "type": "scatter",
         "x": [
          1772.7499999995052,
          986.3333333335024,
          354.74999999998914,
          560.166666666642,
          2836.666666667356,
          1022.7500000001857,
          835.7500000001006,
          1888.3333333327332,
          1030.75000000018,
          1841.1666666661097,
          1966.166666665996,
          1532.9999999997233,
          834.1666666667666,
          289.0000000000041,
          273.58333333334093,
          594.8333333333244,
          1020.9166666668516,
          1428.4999999998183,
          670.7500000000256,
          489.4999999999585,
          1426.3333333331536,
          422.49999999997374,
          1624.7499999996398,
          732.7500000000538,
          1969.6666666659928,
          1657.9999999996096,
          665.5833333333566,
          805.08333333342,
          217.75000000000728,
          1332.583333333239,
          630.5000000000073,
          559.9999999999752,
          456.1666666666328,
          1185.8333333333724,
          1112.6666666667722,
          1016.5833333335162,
          1367.249999999874,
          1767.9999999995096,
          2291.9999999996985,
          552.8333333333053,
          1397.9166666665128,
          997.7500000001744,
          926.1666666668084,
          323.166666666663,
          833.0833333334327,
          1394.416666666516,
          601.7499999999942,
          1724.4999999995491,
          1061.5833333334854,
          325.74999999999574,
          1271.5833333332944,
          1951.0833333326764,
          961.4166666668244,
          507.83333333328767,
          679.6666666666963,
          734.833333333388,
          1057.4166666668225,
          262.8333333333434,
          1302.7499999999327,
          345.8333333333245,
          1543.3333333330472,
          630.7500000000074,
          1164.5833333333917,
          1676.9999999995923,
          1282.5833333332844,
          1019.000000000184,
          1719.1666666662206,
          681.5000000000305,
          287.66666666667106,
          1559.333333333033,
          627.4166666666725,
          1863.7499999994225,
          867.2500000001149,
          2413.4999999999195,
          1322.3333333332482,
          3274.0000000014848,
          1558.9166666663664,
          1902.416666666054,
          1609.166666666321,
          2773.250000000574,
          1940.6666666660192,
          1597.4999999996646,
          162.500000000001,
          1929.0833333326964,
          847.0000000001057,
          1522.7499999997326,
          635.3333333333428,
          2057.166666665938,
          845.9166666667719,
          2022.9166666659444,
          1598.7499999996635,
          566.8333333333117,
          1714.1666666662252,
          680.50000000003,
          1043.2500000001687,
          673.3333333333601,
          1105.750000000112,
          1382.9999999998597,
          531.4999999999623,
          635.0000000000093,
          2376.833333333186,
          462.4166666666313,
          1315.6666666665876,
          504.4166666666218,
          741.2500000000576,
          867.3333333334483,
          875.5833333334521,
          2188.1666666661763,
          1172.8333333333842,
          332.4999999999942,
          1351.749999999888,
          966.25000000016,
          981.750000000167,
          1714.3333333328917,
          813.833333333424,
          863.7500000001133,
          1202.1666666666908,
          665.0833333333563,
          2433.83333333329,
          1189.0000000000362,
          2298.583333333044,
          1414.9166666664971,
          476.4999999999615,
          766.3333333334024,
          2338.249999999782,
          1170.500000000053,
          716.0000000000462,
          1228.083333333334,
          511.8333333332868,
          1357.3333333332164,
          1144.0833333334103,
          292.5000000000033,
          1069.0833333334783,
          1552.333333333039,
          1029.9166666668475,
          2752.83333333387,
          2077.1666666659744,
          1167.8333333333887,
          658.2500000000199,
          741.7500000000579,
          520.4166666666239,
          2127.4999999993997,
          1093.2500000001232,
          1590.4166666663375,
          696.4166666667039,
          1286.8333333332805,
          1489.1666666664298,
          1796.91666666615,
          1298.2499999999368,
          921.583333333473,
          605.5833333333293,
          1245.1666666666515,
          1261.9166666666365,
          1705.4999999995664,
          1363.999999999877,
          790.9166666667469,
          1067.7500000001464,
          1320.4999999999166,
          1317.416666666586,
          1404.3333333331736,
          648.6666666666822,
          309.7499999999994,
          484.9999999999595,
          439.3333333333032,
          814.1666666667575,
          1264.4166666666342,
          655.583333333352,
          342.66666666665856,
          626.5000000000055,
          1059.9166666668202,
          321.66666666666333,
          676.4166666666948,
          201.9166666666721,
          1223.916666666671,
          1687.4166666662495,
          1112.583333333439,
          466.7499999999637,
          785.0833333334109,
          1800.833333332813,
          1364.5833333332098,
          2299.7499999997126,
          1038.7500000001728,
          722.8333333333826,
          1706.999999999565,
          1231.7499999999973,
          967.833333333494,
          1386.5833333331898,
          192.41666666667103,
          291.3333333333369,
          1370.9166666665374,
          605.4999999999959,
          194.08333333333792,
          538.7499999999656,
          33.24999999999985,
          1792.749999999487,
          737.0833333333891,
          1153.7500000000682,
          886.0000000001235,
          955.6666666668218,
          1071.2500000001432,
          748.2500000000608,
          1487.8333333330977,
          835.7500000001006,
          889.0000000001248,
          1337.4166666665678,
          1137.3333333334165,
          966.25000000016,
          1034.0000000001771,
          1499.6666666664205,
          503.58333333328864,
          894.9166666667942,
          1749.4166666661931,
          1879.749999999408,
          635.1666666666761,
          777.0833333334073,
          1202.9166666666902,
          560.4999999999754,
          790.3333333334133,
          797.5833333334166,
          1156.5000000000657,
          1462.9166666664537,
          1168.0833333333885,
          456.24999999996606,
          1019.7500000001844,
          1167.166666666723,
          478.0833333332944,
          1599.7499999996626,
          1578.0833333330156,
          494.49999999995737,
          1705.1666666662334,
          947.6666666668182,
          114.49999999999784,
          759.4166666667326,
          1567.6666666663584,
          547.9999999999698,
          978.3333333334988,
          673.08333333336,
          1354.666666666552,
          1355.1666666665517,
          898.0000000001289,
          701.6666666667063,
          873.1666666667843,
          235.41666666667595,
          998.6666666668414,
          951.41666666682,
          795.4166666667489,
          425.749999999973,
          1044.8333333335006,
          694.9166666667032
         ],
         "xaxis": "x",
         "y": [
          2,
          23,
          20,
          23,
          19,
          1,
          18,
          14,
          2,
          1,
          2,
          3,
          21,
          11,
          1,
          5,
          6,
          15,
          0,
          14,
          2,
          23,
          3,
          20,
          3,
          2,
          5,
          3,
          9,
          5,
          10,
          11,
          3,
          13,
          20,
          13,
          9,
          4,
          11,
          17,
          1,
          16,
          10,
          19,
          5,
          10,
          16,
          20,
          2,
          20,
          8,
          3,
          2,
          12,
          1,
          21,
          20,
          7,
          3,
          19,
          7,
          0,
          19,
          11,
          23,
          0,
          1,
          21,
          20,
          5,
          0,
          11,
          20,
          9,
          0,
          13,
          4,
          3,
          3,
          13,
          4,
          11,
          20,
          13,
          19,
          2,
          13,
          4,
          23,
          15,
          9,
          4,
          3,
          8,
          11,
          11,
          5,
          2,
          1,
          2,
          16,
          18,
          0,
          18,
          4,
          4,
          12,
          7,
          4,
          2,
          3,
          2,
          2,
          12,
          4,
          1,
          5,
          10,
          15,
          21,
          20,
          0,
          23,
          12,
          14,
          13,
          4,
          20,
          19,
          2,
          20,
          6,
          9,
          12,
          4,
          2,
          3,
          20,
          6,
          3,
          4,
          5,
          6,
          5,
          21,
          5,
          18,
          5,
          2,
          20,
          12,
          1,
          4,
          21,
          16,
          7,
          3,
          5,
          16,
          1,
          2,
          2,
          9,
          4,
          5,
          5,
          5,
          0,
          2,
          2,
          14,
          3,
          10,
          21,
          2,
          15,
          21,
          3,
          4,
          5,
          3,
          2,
          4,
          3,
          3,
          3,
          2,
          17,
          2,
          5,
          1,
          22,
          0,
          19,
          11,
          2,
          1,
          21,
          1,
          22,
          4,
          10,
          20,
          2,
          2,
          3,
          20,
          12,
          11,
          2,
          3,
          3,
          12,
          8,
          3,
          20,
          3,
          15,
          20,
          3,
          20,
          1,
          5,
          0,
          2,
          5,
          3,
          5,
          18,
          8,
          1,
          13,
          2,
          2,
          3,
          0,
          23,
          5,
          2,
          10,
          11,
          21,
          7,
          18,
          3,
          2,
          8,
          17,
          5
         ],
         "yaxis": "y"
        }
       ],
       "layout": {
        "coloraxis": {
         "colorbar": {
          "title": {
           "text": "car_hours"
          }
         },
         "colorscale": [
          [
           0,
           "#0d0887"
          ],
          [
           0.1111111111111111,
           "#46039f"
          ],
          [
           0.2222222222222222,
           "#7201a8"
          ],
          [
           0.3333333333333333,
           "#9c179e"
          ],
          [
           0.4444444444444444,
           "#bd3786"
          ],
          [
           0.5555555555555556,
           "#d8576b"
          ],
          [
           0.6666666666666666,
           "#ed7953"
          ],
          [
           0.7777777777777778,
           "#fb9f3a"
          ],
          [
           0.8888888888888888,
           "#fdca26"
          ],
          [
           1,
           "#f0f921"
          ]
         ]
        },
        "legend": {
         "tracegroupgap": 0
        },
        "margin": {
         "t": 60
        },
        "template": {
         "data": {
          "bar": [
           {
            "error_x": {
             "color": "#2a3f5f"
            },
            "error_y": {
             "color": "#2a3f5f"
            },
            "marker": {
             "line": {
              "color": "#E5ECF6",
              "width": 0.5
             },
             "pattern": {
              "fillmode": "overlay",
              "size": 10,
              "solidity": 0.2
             }
            },
            "type": "bar"
           }
          ],
          "barpolar": [
           {
            "marker": {
             "line": {
              "color": "#E5ECF6",
              "width": 0.5
             },
             "pattern": {
              "fillmode": "overlay",
              "size": 10,
              "solidity": 0.2
             }
            },
            "type": "barpolar"
           }
          ],
          "carpet": [
           {
            "aaxis": {
             "endlinecolor": "#2a3f5f",
             "gridcolor": "white",
             "linecolor": "white",
             "minorgridcolor": "white",
             "startlinecolor": "#2a3f5f"
            },
            "baxis": {
             "endlinecolor": "#2a3f5f",
             "gridcolor": "white",
             "linecolor": "white",
             "minorgridcolor": "white",
             "startlinecolor": "#2a3f5f"
            },
            "type": "carpet"
           }
          ],
          "choropleth": [
           {
            "colorbar": {
             "outlinewidth": 0,
             "ticks": ""
            },
            "type": "choropleth"
           }
          ],
          "contour": [
           {
            "colorbar": {
             "outlinewidth": 0,
             "ticks": ""
            },
            "colorscale": [
             [
              0,
              "#0d0887"
             ],
             [
              0.1111111111111111,
              "#46039f"
             ],
             [
              0.2222222222222222,
              "#7201a8"
             ],
             [
              0.3333333333333333,
              "#9c179e"
             ],
             [
              0.4444444444444444,
              "#bd3786"
             ],
             [
              0.5555555555555556,
              "#d8576b"
             ],
             [
              0.6666666666666666,
              "#ed7953"
             ],
             [
              0.7777777777777778,
              "#fb9f3a"
             ],
             [
              0.8888888888888888,
              "#fdca26"
             ],
             [
              1,
              "#f0f921"
             ]
            ],
            "type": "contour"
           }
          ],
          "contourcarpet": [
           {
            "colorbar": {
             "outlinewidth": 0,
             "ticks": ""
            },
            "type": "contourcarpet"
           }
          ],
          "heatmap": [
           {
            "colorbar": {
             "outlinewidth": 0,
             "ticks": ""
            },
            "colorscale": [
             [
              0,
              "#0d0887"
             ],
             [
              0.1111111111111111,
              "#46039f"
             ],
             [
              0.2222222222222222,
              "#7201a8"
             ],
             [
              0.3333333333333333,
              "#9c179e"
             ],
             [
              0.4444444444444444,
              "#bd3786"
             ],
             [
              0.5555555555555556,
              "#d8576b"
             ],
             [
              0.6666666666666666,
              "#ed7953"
             ],
             [
              0.7777777777777778,
              "#fb9f3a"
             ],
             [
              0.8888888888888888,
              "#fdca26"
             ],
             [
              1,
              "#f0f921"
             ]
            ],
            "type": "heatmap"
           }
          ],
          "heatmapgl": [
           {
            "colorbar": {
             "outlinewidth": 0,
             "ticks": ""
            },
            "colorscale": [
             [
              0,
              "#0d0887"
             ],
             [
              0.1111111111111111,
              "#46039f"
             ],
             [
              0.2222222222222222,
              "#7201a8"
             ],
             [
              0.3333333333333333,
              "#9c179e"
             ],
             [
              0.4444444444444444,
              "#bd3786"
             ],
             [
              0.5555555555555556,
              "#d8576b"
             ],
             [
              0.6666666666666666,
              "#ed7953"
             ],
             [
              0.7777777777777778,
              "#fb9f3a"
             ],
             [
              0.8888888888888888,
              "#fdca26"
             ],
             [
              1,
              "#f0f921"
             ]
            ],
            "type": "heatmapgl"
           }
          ],
          "histogram": [
           {
            "marker": {
             "pattern": {
              "fillmode": "overlay",
              "size": 10,
              "solidity": 0.2
             }
            },
            "type": "histogram"
           }
          ],
          "histogram2d": [
           {
            "colorbar": {
             "outlinewidth": 0,
             "ticks": ""
            },
            "colorscale": [
             [
              0,
              "#0d0887"
             ],
             [
              0.1111111111111111,
              "#46039f"
             ],
             [
              0.2222222222222222,
              "#7201a8"
             ],
             [
              0.3333333333333333,
              "#9c179e"
             ],
             [
              0.4444444444444444,
              "#bd3786"
             ],
             [
              0.5555555555555556,
              "#d8576b"
             ],
             [
              0.6666666666666666,
              "#ed7953"
             ],
             [
              0.7777777777777778,
              "#fb9f3a"
             ],
             [
              0.8888888888888888,
              "#fdca26"
             ],
             [
              1,
              "#f0f921"
             ]
            ],
            "type": "histogram2d"
           }
          ],
          "histogram2dcontour": [
           {
            "colorbar": {
             "outlinewidth": 0,
             "ticks": ""
            },
            "colorscale": [
             [
              0,
              "#0d0887"
             ],
             [
              0.1111111111111111,
              "#46039f"
             ],
             [
              0.2222222222222222,
              "#7201a8"
             ],
             [
              0.3333333333333333,
              "#9c179e"
             ],
             [
              0.4444444444444444,
              "#bd3786"
             ],
             [
              0.5555555555555556,
              "#d8576b"
             ],
             [
              0.6666666666666666,
              "#ed7953"
             ],
             [
              0.7777777777777778,
              "#fb9f3a"
             ],
             [
              0.8888888888888888,
              "#fdca26"
             ],
             [
              1,
              "#f0f921"
             ]
            ],
            "type": "histogram2dcontour"
           }
          ],
          "mesh3d": [
           {
            "colorbar": {
             "outlinewidth": 0,
             "ticks": ""
            },
            "type": "mesh3d"
           }
          ],
          "parcoords": [
           {
            "line": {
             "colorbar": {
              "outlinewidth": 0,
              "ticks": ""
             }
            },
            "type": "parcoords"
           }
          ],
          "pie": [
           {
            "automargin": true,
            "type": "pie"
           }
          ],
          "scatter": [
           {
            "fillpattern": {
             "fillmode": "overlay",
             "size": 10,
             "solidity": 0.2
            },
            "type": "scatter"
           }
          ],
          "scatter3d": [
           {
            "line": {
             "colorbar": {
              "outlinewidth": 0,
              "ticks": ""
             }
            },
            "marker": {
             "colorbar": {
              "outlinewidth": 0,
              "ticks": ""
             }
            },
            "type": "scatter3d"
           }
          ],
          "scattercarpet": [
           {
            "marker": {
             "colorbar": {
              "outlinewidth": 0,
              "ticks": ""
             }
            },
            "type": "scattercarpet"
           }
          ],
          "scattergeo": [
           {
            "marker": {
             "colorbar": {
              "outlinewidth": 0,
              "ticks": ""
             }
            },
            "type": "scattergeo"
           }
          ],
          "scattergl": [
           {
            "marker": {
             "colorbar": {
              "outlinewidth": 0,
              "ticks": ""
             }
            },
            "type": "scattergl"
           }
          ],
          "scattermapbox": [
           {
            "marker": {
             "colorbar": {
              "outlinewidth": 0,
              "ticks": ""
             }
            },
            "type": "scattermapbox"
           }
          ],
          "scatterpolar": [
           {
            "marker": {
             "colorbar": {
              "outlinewidth": 0,
              "ticks": ""
             }
            },
            "type": "scatterpolar"
           }
          ],
          "scatterpolargl": [
           {
            "marker": {
             "colorbar": {
              "outlinewidth": 0,
              "ticks": ""
             }
            },
            "type": "scatterpolargl"
           }
          ],
          "scatterternary": [
           {
            "marker": {
             "colorbar": {
              "outlinewidth": 0,
              "ticks": ""
             }
            },
            "type": "scatterternary"
           }
          ],
          "surface": [
           {
            "colorbar": {
             "outlinewidth": 0,
             "ticks": ""
            },
            "colorscale": [
             [
              0,
              "#0d0887"
             ],
             [
              0.1111111111111111,
              "#46039f"
             ],
             [
              0.2222222222222222,
              "#7201a8"
             ],
             [
              0.3333333333333333,
              "#9c179e"
             ],
             [
              0.4444444444444444,
              "#bd3786"
             ],
             [
              0.5555555555555556,
              "#d8576b"
             ],
             [
              0.6666666666666666,
              "#ed7953"
             ],
             [
              0.7777777777777778,
              "#fb9f3a"
             ],
             [
              0.8888888888888888,
              "#fdca26"
             ],
             [
              1,
              "#f0f921"
             ]
            ],
            "type": "surface"
           }
          ],
          "table": [
           {
            "cells": {
             "fill": {
              "color": "#EBF0F8"
             },
             "line": {
              "color": "white"
             }
            },
            "header": {
             "fill": {
              "color": "#C8D4E3"
             },
             "line": {
              "color": "white"
             }
            },
            "type": "table"
           }
          ]
         },
         "layout": {
          "annotationdefaults": {
           "arrowcolor": "#2a3f5f",
           "arrowhead": 0,
           "arrowwidth": 1
          },
          "autotypenumbers": "strict",
          "coloraxis": {
           "colorbar": {
            "outlinewidth": 0,
            "ticks": ""
           }
          },
          "colorscale": {
           "diverging": [
            [
             0,
             "#8e0152"
            ],
            [
             0.1,
             "#c51b7d"
            ],
            [
             0.2,
             "#de77ae"
            ],
            [
             0.3,
             "#f1b6da"
            ],
            [
             0.4,
             "#fde0ef"
            ],
            [
             0.5,
             "#f7f7f7"
            ],
            [
             0.6,
             "#e6f5d0"
            ],
            [
             0.7,
             "#b8e186"
            ],
            [
             0.8,
             "#7fbc41"
            ],
            [
             0.9,
             "#4d9221"
            ],
            [
             1,
             "#276419"
            ]
           ],
           "sequential": [
            [
             0,
             "#0d0887"
            ],
            [
             0.1111111111111111,
             "#46039f"
            ],
            [
             0.2222222222222222,
             "#7201a8"
            ],
            [
             0.3333333333333333,
             "#9c179e"
            ],
            [
             0.4444444444444444,
             "#bd3786"
            ],
            [
             0.5555555555555556,
             "#d8576b"
            ],
            [
             0.6666666666666666,
             "#ed7953"
            ],
            [
             0.7777777777777778,
             "#fb9f3a"
            ],
            [
             0.8888888888888888,
             "#fdca26"
            ],
            [
             1,
             "#f0f921"
            ]
           ],
           "sequentialminus": [
            [
             0,
             "#0d0887"
            ],
            [
             0.1111111111111111,
             "#46039f"
            ],
            [
             0.2222222222222222,
             "#7201a8"
            ],
            [
             0.3333333333333333,
             "#9c179e"
            ],
            [
             0.4444444444444444,
             "#bd3786"
            ],
            [
             0.5555555555555556,
             "#d8576b"
            ],
            [
             0.6666666666666666,
             "#ed7953"
            ],
            [
             0.7777777777777778,
             "#fb9f3a"
            ],
            [
             0.8888888888888888,
             "#fdca26"
            ],
            [
             1,
             "#f0f921"
            ]
           ]
          },
          "colorway": [
           "#636efa",
           "#EF553B",
           "#00cc96",
           "#ab63fa",
           "#FFA15A",
           "#19d3f3",
           "#FF6692",
           "#B6E880",
           "#FF97FF",
           "#FECB52"
          ],
          "font": {
           "color": "#2a3f5f"
          },
          "geo": {
           "bgcolor": "white",
           "lakecolor": "white",
           "landcolor": "#E5ECF6",
           "showlakes": true,
           "showland": true,
           "subunitcolor": "white"
          },
          "hoverlabel": {
           "align": "left"
          },
          "hovermode": "closest",
          "mapbox": {
           "style": "light"
          },
          "paper_bgcolor": "white",
          "plot_bgcolor": "#E5ECF6",
          "polar": {
           "angularaxis": {
            "gridcolor": "white",
            "linecolor": "white",
            "ticks": ""
           },
           "bgcolor": "#E5ECF6",
           "radialaxis": {
            "gridcolor": "white",
            "linecolor": "white",
            "ticks": ""
           }
          },
          "scene": {
           "xaxis": {
            "backgroundcolor": "#E5ECF6",
            "gridcolor": "white",
            "gridwidth": 2,
            "linecolor": "white",
            "showbackground": true,
            "ticks": "",
            "zerolinecolor": "white"
           },
           "yaxis": {
            "backgroundcolor": "#E5ECF6",
            "gridcolor": "white",
            "gridwidth": 2,
            "linecolor": "white",
            "showbackground": true,
            "ticks": "",
            "zerolinecolor": "white"
           },
           "zaxis": {
            "backgroundcolor": "#E5ECF6",
            "gridcolor": "white",
            "gridwidth": 2,
            "linecolor": "white",
            "showbackground": true,
            "ticks": "",
            "zerolinecolor": "white"
           }
          },
          "shapedefaults": {
           "line": {
            "color": "#2a3f5f"
           }
          },
          "ternary": {
           "aaxis": {
            "gridcolor": "white",
            "linecolor": "white",
            "ticks": ""
           },
           "baxis": {
            "gridcolor": "white",
            "linecolor": "white",
            "ticks": ""
           },
           "bgcolor": "#E5ECF6",
           "caxis": {
            "gridcolor": "white",
            "linecolor": "white",
            "ticks": ""
           }
          },
          "title": {
           "x": 0.05
          },
          "xaxis": {
           "automargin": true,
           "gridcolor": "white",
           "linecolor": "white",
           "ticks": "",
           "title": {
            "standoff": 15
           },
           "zerolinecolor": "white",
           "zerolinewidth": 2
          },
          "yaxis": {
           "automargin": true,
           "gridcolor": "white",
           "linecolor": "white",
           "ticks": "",
           "title": {
            "standoff": 15
           },
           "zerolinecolor": "white",
           "zerolinewidth": 2
          }
         }
        },
        "xaxis": {
         "anchor": "y",
         "domain": [
          0,
          1
         ],
         "title": {
          "text": "car_hours"
         }
        },
        "yaxis": {
         "anchor": "x",
         "domain": [
          0,
          1
         ],
         "title": {
          "text": "peak_hour"
         }
        }
       }
      },
      "text/html": [
       "<div>                            <div id=\"c9a0e2a2-8afb-48c1-9172-6993c3ddfdce\" class=\"plotly-graph-div\" style=\"height:525px; width:100%;\"></div>            <script type=\"text/javascript\">                require([\"plotly\"], function(Plotly) {                    window.PLOTLYENV=window.PLOTLYENV || {};                                    if (document.getElementById(\"c9a0e2a2-8afb-48c1-9172-6993c3ddfdce\")) {                    Plotly.newPlot(                        \"c9a0e2a2-8afb-48c1-9172-6993c3ddfdce\",                        [{\"hovertemplate\":\"car_hours=%{marker.color}<br>peak_hour=%{y}<extra></extra>\",\"legendgroup\":\"\",\"marker\":{\"color\":[1772.7499999995052,986.3333333335024,354.74999999998914,560.166666666642,2836.666666667356,1022.7500000001857,835.7500000001006,1888.3333333327332,1030.75000000018,1841.1666666661097,1966.166666665996,1532.9999999997233,834.1666666667666,289.0000000000041,273.58333333334093,594.8333333333244,1020.9166666668516,1428.4999999998183,670.7500000000256,489.4999999999585,1426.3333333331536,422.49999999997374,1624.7499999996398,732.7500000000538,1969.6666666659928,1657.9999999996096,665.5833333333566,805.08333333342,217.75000000000728,1332.583333333239,630.5000000000073,559.9999999999752,456.1666666666328,1185.8333333333724,1112.6666666667722,1016.5833333335162,1367.249999999874,1767.9999999995096,2291.9999999996985,552.8333333333053,1397.9166666665128,997.7500000001744,926.1666666668084,323.166666666663,833.0833333334327,1394.416666666516,601.7499999999942,1724.4999999995491,1061.5833333334854,325.74999999999574,1271.5833333332944,1951.0833333326764,961.4166666668244,507.83333333328767,679.6666666666963,734.833333333388,1057.4166666668225,262.8333333333434,1302.7499999999327,345.8333333333245,1543.3333333330472,630.7500000000074,1164.5833333333917,1676.9999999995923,1282.5833333332844,1019.000000000184,1719.1666666662206,681.5000000000305,287.66666666667106,1559.333333333033,627.4166666666725,1863.7499999994225,867.2500000001149,2413.4999999999195,1322.3333333332482,3274.0000000014848,1558.9166666663664,1902.416666666054,1609.166666666321,2773.250000000574,1940.6666666660192,1597.4999999996646,162.500000000001,1929.0833333326964,847.0000000001057,1522.7499999997326,635.3333333333428,2057.166666665938,845.9166666667719,2022.9166666659444,1598.7499999996635,566.8333333333117,1714.1666666662252,680.50000000003,1043.2500000001687,673.3333333333601,1105.750000000112,1382.9999999998597,531.4999999999623,635.0000000000093,2376.833333333186,462.4166666666313,1315.6666666665876,504.4166666666218,741.2500000000576,867.3333333334483,875.5833333334521,2188.1666666661763,1172.8333333333842,332.4999999999942,1351.749999999888,966.25000000016,981.750000000167,1714.3333333328917,813.833333333424,863.7500000001133,1202.1666666666908,665.0833333333563,2433.83333333329,1189.0000000000362,2298.583333333044,1414.9166666664971,476.4999999999615,766.3333333334024,2338.249999999782,1170.500000000053,716.0000000000462,1228.083333333334,511.8333333332868,1357.3333333332164,1144.0833333334103,292.5000000000033,1069.0833333334783,1552.333333333039,1029.9166666668475,2752.83333333387,2077.1666666659744,1167.8333333333887,658.2500000000199,741.7500000000579,520.4166666666239,2127.4999999993997,1093.2500000001232,1590.4166666663375,696.4166666667039,1286.8333333332805,1489.1666666664298,1796.91666666615,1298.2499999999368,921.583333333473,605.5833333333293,1245.1666666666515,1261.9166666666365,1705.4999999995664,1363.999999999877,790.9166666667469,1067.7500000001464,1320.4999999999166,1317.416666666586,1404.3333333331736,648.6666666666822,309.7499999999994,484.9999999999595,439.3333333333032,814.1666666667575,1264.4166666666342,655.583333333352,342.66666666665856,626.5000000000055,1059.9166666668202,321.66666666666333,676.4166666666948,201.9166666666721,1223.916666666671,1687.4166666662495,1112.583333333439,466.7499999999637,785.0833333334109,1800.833333332813,1364.5833333332098,2299.7499999997126,1038.7500000001728,722.8333333333826,1706.999999999565,1231.7499999999973,967.833333333494,1386.5833333331898,192.41666666667103,291.3333333333369,1370.9166666665374,605.4999999999959,194.08333333333792,538.7499999999656,33.24999999999985,1792.749999999487,737.0833333333891,1153.7500000000682,886.0000000001235,955.6666666668218,1071.2500000001432,748.2500000000608,1487.8333333330977,835.7500000001006,889.0000000001248,1337.4166666665678,1137.3333333334165,966.25000000016,1034.0000000001771,1499.6666666664205,503.58333333328864,894.9166666667942,1749.4166666661931,1879.749999999408,635.1666666666761,777.0833333334073,1202.9166666666902,560.4999999999754,790.3333333334133,797.5833333334166,1156.5000000000657,1462.9166666664537,1168.0833333333885,456.24999999996606,1019.7500000001844,1167.166666666723,478.0833333332944,1599.7499999996626,1578.0833333330156,494.49999999995737,1705.1666666662334,947.6666666668182,114.49999999999784,759.4166666667326,1567.6666666663584,547.9999999999698,978.3333333334988,673.08333333336,1354.666666666552,1355.1666666665517,898.0000000001289,701.6666666667063,873.1666666667843,235.41666666667595,998.6666666668414,951.41666666682,795.4166666667489,425.749999999973,1044.8333333335006,694.9166666667032],\"coloraxis\":\"coloraxis\",\"symbol\":\"circle\"},\"mode\":\"markers\",\"name\":\"\",\"orientation\":\"v\",\"showlegend\":false,\"x\":[1772.7499999995052,986.3333333335024,354.74999999998914,560.166666666642,2836.666666667356,1022.7500000001857,835.7500000001006,1888.3333333327332,1030.75000000018,1841.1666666661097,1966.166666665996,1532.9999999997233,834.1666666667666,289.0000000000041,273.58333333334093,594.8333333333244,1020.9166666668516,1428.4999999998183,670.7500000000256,489.4999999999585,1426.3333333331536,422.49999999997374,1624.7499999996398,732.7500000000538,1969.6666666659928,1657.9999999996096,665.5833333333566,805.08333333342,217.75000000000728,1332.583333333239,630.5000000000073,559.9999999999752,456.1666666666328,1185.8333333333724,1112.6666666667722,1016.5833333335162,1367.249999999874,1767.9999999995096,2291.9999999996985,552.8333333333053,1397.9166666665128,997.7500000001744,926.1666666668084,323.166666666663,833.0833333334327,1394.416666666516,601.7499999999942,1724.4999999995491,1061.5833333334854,325.74999999999574,1271.5833333332944,1951.0833333326764,961.4166666668244,507.83333333328767,679.6666666666963,734.833333333388,1057.4166666668225,262.8333333333434,1302.7499999999327,345.8333333333245,1543.3333333330472,630.7500000000074,1164.5833333333917,1676.9999999995923,1282.5833333332844,1019.000000000184,1719.1666666662206,681.5000000000305,287.66666666667106,1559.333333333033,627.4166666666725,1863.7499999994225,867.2500000001149,2413.4999999999195,1322.3333333332482,3274.0000000014848,1558.9166666663664,1902.416666666054,1609.166666666321,2773.250000000574,1940.6666666660192,1597.4999999996646,162.500000000001,1929.0833333326964,847.0000000001057,1522.7499999997326,635.3333333333428,2057.166666665938,845.9166666667719,2022.9166666659444,1598.7499999996635,566.8333333333117,1714.1666666662252,680.50000000003,1043.2500000001687,673.3333333333601,1105.750000000112,1382.9999999998597,531.4999999999623,635.0000000000093,2376.833333333186,462.4166666666313,1315.6666666665876,504.4166666666218,741.2500000000576,867.3333333334483,875.5833333334521,2188.1666666661763,1172.8333333333842,332.4999999999942,1351.749999999888,966.25000000016,981.750000000167,1714.3333333328917,813.833333333424,863.7500000001133,1202.1666666666908,665.0833333333563,2433.83333333329,1189.0000000000362,2298.583333333044,1414.9166666664971,476.4999999999615,766.3333333334024,2338.249999999782,1170.500000000053,716.0000000000462,1228.083333333334,511.8333333332868,1357.3333333332164,1144.0833333334103,292.5000000000033,1069.0833333334783,1552.333333333039,1029.9166666668475,2752.83333333387,2077.1666666659744,1167.8333333333887,658.2500000000199,741.7500000000579,520.4166666666239,2127.4999999993997,1093.2500000001232,1590.4166666663375,696.4166666667039,1286.8333333332805,1489.1666666664298,1796.91666666615,1298.2499999999368,921.583333333473,605.5833333333293,1245.1666666666515,1261.9166666666365,1705.4999999995664,1363.999999999877,790.9166666667469,1067.7500000001464,1320.4999999999166,1317.416666666586,1404.3333333331736,648.6666666666822,309.7499999999994,484.9999999999595,439.3333333333032,814.1666666667575,1264.4166666666342,655.583333333352,342.66666666665856,626.5000000000055,1059.9166666668202,321.66666666666333,676.4166666666948,201.9166666666721,1223.916666666671,1687.4166666662495,1112.583333333439,466.7499999999637,785.0833333334109,1800.833333332813,1364.5833333332098,2299.7499999997126,1038.7500000001728,722.8333333333826,1706.999999999565,1231.7499999999973,967.833333333494,1386.5833333331898,192.41666666667103,291.3333333333369,1370.9166666665374,605.4999999999959,194.08333333333792,538.7499999999656,33.24999999999985,1792.749999999487,737.0833333333891,1153.7500000000682,886.0000000001235,955.6666666668218,1071.2500000001432,748.2500000000608,1487.8333333330977,835.7500000001006,889.0000000001248,1337.4166666665678,1137.3333333334165,966.25000000016,1034.0000000001771,1499.6666666664205,503.58333333328864,894.9166666667942,1749.4166666661931,1879.749999999408,635.1666666666761,777.0833333334073,1202.9166666666902,560.4999999999754,790.3333333334133,797.5833333334166,1156.5000000000657,1462.9166666664537,1168.0833333333885,456.24999999996606,1019.7500000001844,1167.166666666723,478.0833333332944,1599.7499999996626,1578.0833333330156,494.49999999995737,1705.1666666662334,947.6666666668182,114.49999999999784,759.4166666667326,1567.6666666663584,547.9999999999698,978.3333333334988,673.08333333336,1354.666666666552,1355.1666666665517,898.0000000001289,701.6666666667063,873.1666666667843,235.41666666667595,998.6666666668414,951.41666666682,795.4166666667489,425.749999999973,1044.8333333335006,694.9166666667032],\"xaxis\":\"x\",\"y\":[2,23,20,23,19,1,18,14,2,1,2,3,21,11,1,5,6,15,0,14,2,23,3,20,3,2,5,3,9,5,10,11,3,13,20,13,9,4,11,17,1,16,10,19,5,10,16,20,2,20,8,3,2,12,1,21,20,7,3,19,7,0,19,11,23,0,1,21,20,5,0,11,20,9,0,13,4,3,3,13,4,11,20,13,19,2,13,4,23,15,9,4,3,8,11,11,5,2,1,2,16,18,0,18,4,4,12,7,4,2,3,2,2,12,4,1,5,10,15,21,20,0,23,12,14,13,4,20,19,2,20,6,9,12,4,2,3,20,6,3,4,5,6,5,21,5,18,5,2,20,12,1,4,21,16,7,3,5,16,1,2,2,9,4,5,5,5,0,2,2,14,3,10,21,2,15,21,3,4,5,3,2,4,3,3,3,2,17,2,5,1,22,0,19,11,2,1,21,1,22,4,10,20,2,2,3,20,12,11,2,3,3,12,8,3,20,3,15,20,3,20,1,5,0,2,5,3,5,18,8,1,13,2,2,3,0,23,5,2,10,11,21,7,18,3,2,8,17,5],\"yaxis\":\"y\",\"type\":\"scatter\"}],                        {\"template\":{\"data\":{\"histogram2dcontour\":[{\"type\":\"histogram2dcontour\",\"colorbar\":{\"outlinewidth\":0,\"ticks\":\"\"},\"colorscale\":[[0.0,\"#0d0887\"],[0.1111111111111111,\"#46039f\"],[0.2222222222222222,\"#7201a8\"],[0.3333333333333333,\"#9c179e\"],[0.4444444444444444,\"#bd3786\"],[0.5555555555555556,\"#d8576b\"],[0.6666666666666666,\"#ed7953\"],[0.7777777777777778,\"#fb9f3a\"],[0.8888888888888888,\"#fdca26\"],[1.0,\"#f0f921\"]]}],\"choropleth\":[{\"type\":\"choropleth\",\"colorbar\":{\"outlinewidth\":0,\"ticks\":\"\"}}],\"histogram2d\":[{\"type\":\"histogram2d\",\"colorbar\":{\"outlinewidth\":0,\"ticks\":\"\"},\"colorscale\":[[0.0,\"#0d0887\"],[0.1111111111111111,\"#46039f\"],[0.2222222222222222,\"#7201a8\"],[0.3333333333333333,\"#9c179e\"],[0.4444444444444444,\"#bd3786\"],[0.5555555555555556,\"#d8576b\"],[0.6666666666666666,\"#ed7953\"],[0.7777777777777778,\"#fb9f3a\"],[0.8888888888888888,\"#fdca26\"],[1.0,\"#f0f921\"]]}],\"heatmap\":[{\"type\":\"heatmap\",\"colorbar\":{\"outlinewidth\":0,\"ticks\":\"\"},\"colorscale\":[[0.0,\"#0d0887\"],[0.1111111111111111,\"#46039f\"],[0.2222222222222222,\"#7201a8\"],[0.3333333333333333,\"#9c179e\"],[0.4444444444444444,\"#bd3786\"],[0.5555555555555556,\"#d8576b\"],[0.6666666666666666,\"#ed7953\"],[0.7777777777777778,\"#fb9f3a\"],[0.8888888888888888,\"#fdca26\"],[1.0,\"#f0f921\"]]}],\"heatmapgl\":[{\"type\":\"heatmapgl\",\"colorbar\":{\"outlinewidth\":0,\"ticks\":\"\"},\"colorscale\":[[0.0,\"#0d0887\"],[0.1111111111111111,\"#46039f\"],[0.2222222222222222,\"#7201a8\"],[0.3333333333333333,\"#9c179e\"],[0.4444444444444444,\"#bd3786\"],[0.5555555555555556,\"#d8576b\"],[0.6666666666666666,\"#ed7953\"],[0.7777777777777778,\"#fb9f3a\"],[0.8888888888888888,\"#fdca26\"],[1.0,\"#f0f921\"]]}],\"contourcarpet\":[{\"type\":\"contourcarpet\",\"colorbar\":{\"outlinewidth\":0,\"ticks\":\"\"}}],\"contour\":[{\"type\":\"contour\",\"colorbar\":{\"outlinewidth\":0,\"ticks\":\"\"},\"colorscale\":[[0.0,\"#0d0887\"],[0.1111111111111111,\"#46039f\"],[0.2222222222222222,\"#7201a8\"],[0.3333333333333333,\"#9c179e\"],[0.4444444444444444,\"#bd3786\"],[0.5555555555555556,\"#d8576b\"],[0.6666666666666666,\"#ed7953\"],[0.7777777777777778,\"#fb9f3a\"],[0.8888888888888888,\"#fdca26\"],[1.0,\"#f0f921\"]]}],\"surface\":[{\"type\":\"surface\",\"colorbar\":{\"outlinewidth\":0,\"ticks\":\"\"},\"colorscale\":[[0.0,\"#0d0887\"],[0.1111111111111111,\"#46039f\"],[0.2222222222222222,\"#7201a8\"],[0.3333333333333333,\"#9c179e\"],[0.4444444444444444,\"#bd3786\"],[0.5555555555555556,\"#d8576b\"],[0.6666666666666666,\"#ed7953\"],[0.7777777777777778,\"#fb9f3a\"],[0.8888888888888888,\"#fdca26\"],[1.0,\"#f0f921\"]]}],\"mesh3d\":[{\"type\":\"mesh3d\",\"colorbar\":{\"outlinewidth\":0,\"ticks\":\"\"}}],\"scatter\":[{\"fillpattern\":{\"fillmode\":\"overlay\",\"size\":10,\"solidity\":0.2},\"type\":\"scatter\"}],\"parcoords\":[{\"type\":\"parcoords\",\"line\":{\"colorbar\":{\"outlinewidth\":0,\"ticks\":\"\"}}}],\"scatterpolargl\":[{\"type\":\"scatterpolargl\",\"marker\":{\"colorbar\":{\"outlinewidth\":0,\"ticks\":\"\"}}}],\"bar\":[{\"error_x\":{\"color\":\"#2a3f5f\"},\"error_y\":{\"color\":\"#2a3f5f\"},\"marker\":{\"line\":{\"color\":\"#E5ECF6\",\"width\":0.5},\"pattern\":{\"fillmode\":\"overlay\",\"size\":10,\"solidity\":0.2}},\"type\":\"bar\"}],\"scattergeo\":[{\"type\":\"scattergeo\",\"marker\":{\"colorbar\":{\"outlinewidth\":0,\"ticks\":\"\"}}}],\"scatterpolar\":[{\"type\":\"scatterpolar\",\"marker\":{\"colorbar\":{\"outlinewidth\":0,\"ticks\":\"\"}}}],\"histogram\":[{\"marker\":{\"pattern\":{\"fillmode\":\"overlay\",\"size\":10,\"solidity\":0.2}},\"type\":\"histogram\"}],\"scattergl\":[{\"type\":\"scattergl\",\"marker\":{\"colorbar\":{\"outlinewidth\":0,\"ticks\":\"\"}}}],\"scatter3d\":[{\"type\":\"scatter3d\",\"line\":{\"colorbar\":{\"outlinewidth\":0,\"ticks\":\"\"}},\"marker\":{\"colorbar\":{\"outlinewidth\":0,\"ticks\":\"\"}}}],\"scattermapbox\":[{\"type\":\"scattermapbox\",\"marker\":{\"colorbar\":{\"outlinewidth\":0,\"ticks\":\"\"}}}],\"scatterternary\":[{\"type\":\"scatterternary\",\"marker\":{\"colorbar\":{\"outlinewidth\":0,\"ticks\":\"\"}}}],\"scattercarpet\":[{\"type\":\"scattercarpet\",\"marker\":{\"colorbar\":{\"outlinewidth\":0,\"ticks\":\"\"}}}],\"carpet\":[{\"aaxis\":{\"endlinecolor\":\"#2a3f5f\",\"gridcolor\":\"white\",\"linecolor\":\"white\",\"minorgridcolor\":\"white\",\"startlinecolor\":\"#2a3f5f\"},\"baxis\":{\"endlinecolor\":\"#2a3f5f\",\"gridcolor\":\"white\",\"linecolor\":\"white\",\"minorgridcolor\":\"white\",\"startlinecolor\":\"#2a3f5f\"},\"type\":\"carpet\"}],\"table\":[{\"cells\":{\"fill\":{\"color\":\"#EBF0F8\"},\"line\":{\"color\":\"white\"}},\"header\":{\"fill\":{\"color\":\"#C8D4E3\"},\"line\":{\"color\":\"white\"}},\"type\":\"table\"}],\"barpolar\":[{\"marker\":{\"line\":{\"color\":\"#E5ECF6\",\"width\":0.5},\"pattern\":{\"fillmode\":\"overlay\",\"size\":10,\"solidity\":0.2}},\"type\":\"barpolar\"}],\"pie\":[{\"automargin\":true,\"type\":\"pie\"}]},\"layout\":{\"autotypenumbers\":\"strict\",\"colorway\":[\"#636efa\",\"#EF553B\",\"#00cc96\",\"#ab63fa\",\"#FFA15A\",\"#19d3f3\",\"#FF6692\",\"#B6E880\",\"#FF97FF\",\"#FECB52\"],\"font\":{\"color\":\"#2a3f5f\"},\"hovermode\":\"closest\",\"hoverlabel\":{\"align\":\"left\"},\"paper_bgcolor\":\"white\",\"plot_bgcolor\":\"#E5ECF6\",\"polar\":{\"bgcolor\":\"#E5ECF6\",\"angularaxis\":{\"gridcolor\":\"white\",\"linecolor\":\"white\",\"ticks\":\"\"},\"radialaxis\":{\"gridcolor\":\"white\",\"linecolor\":\"white\",\"ticks\":\"\"}},\"ternary\":{\"bgcolor\":\"#E5ECF6\",\"aaxis\":{\"gridcolor\":\"white\",\"linecolor\":\"white\",\"ticks\":\"\"},\"baxis\":{\"gridcolor\":\"white\",\"linecolor\":\"white\",\"ticks\":\"\"},\"caxis\":{\"gridcolor\":\"white\",\"linecolor\":\"white\",\"ticks\":\"\"}},\"coloraxis\":{\"colorbar\":{\"outlinewidth\":0,\"ticks\":\"\"}},\"colorscale\":{\"sequential\":[[0.0,\"#0d0887\"],[0.1111111111111111,\"#46039f\"],[0.2222222222222222,\"#7201a8\"],[0.3333333333333333,\"#9c179e\"],[0.4444444444444444,\"#bd3786\"],[0.5555555555555556,\"#d8576b\"],[0.6666666666666666,\"#ed7953\"],[0.7777777777777778,\"#fb9f3a\"],[0.8888888888888888,\"#fdca26\"],[1.0,\"#f0f921\"]],\"sequentialminus\":[[0.0,\"#0d0887\"],[0.1111111111111111,\"#46039f\"],[0.2222222222222222,\"#7201a8\"],[0.3333333333333333,\"#9c179e\"],[0.4444444444444444,\"#bd3786\"],[0.5555555555555556,\"#d8576b\"],[0.6666666666666666,\"#ed7953\"],[0.7777777777777778,\"#fb9f3a\"],[0.8888888888888888,\"#fdca26\"],[1.0,\"#f0f921\"]],\"diverging\":[[0,\"#8e0152\"],[0.1,\"#c51b7d\"],[0.2,\"#de77ae\"],[0.3,\"#f1b6da\"],[0.4,\"#fde0ef\"],[0.5,\"#f7f7f7\"],[0.6,\"#e6f5d0\"],[0.7,\"#b8e186\"],[0.8,\"#7fbc41\"],[0.9,\"#4d9221\"],[1,\"#276419\"]]},\"xaxis\":{\"gridcolor\":\"white\",\"linecolor\":\"white\",\"ticks\":\"\",\"title\":{\"standoff\":15},\"zerolinecolor\":\"white\",\"automargin\":true,\"zerolinewidth\":2},\"yaxis\":{\"gridcolor\":\"white\",\"linecolor\":\"white\",\"ticks\":\"\",\"title\":{\"standoff\":15},\"zerolinecolor\":\"white\",\"automargin\":true,\"zerolinewidth\":2},\"scene\":{\"xaxis\":{\"backgroundcolor\":\"#E5ECF6\",\"gridcolor\":\"white\",\"linecolor\":\"white\",\"showbackground\":true,\"ticks\":\"\",\"zerolinecolor\":\"white\",\"gridwidth\":2},\"yaxis\":{\"backgroundcolor\":\"#E5ECF6\",\"gridcolor\":\"white\",\"linecolor\":\"white\",\"showbackground\":true,\"ticks\":\"\",\"zerolinecolor\":\"white\",\"gridwidth\":2},\"zaxis\":{\"backgroundcolor\":\"#E5ECF6\",\"gridcolor\":\"white\",\"linecolor\":\"white\",\"showbackground\":true,\"ticks\":\"\",\"zerolinecolor\":\"white\",\"gridwidth\":2}},\"shapedefaults\":{\"line\":{\"color\":\"#2a3f5f\"}},\"annotationdefaults\":{\"arrowcolor\":\"#2a3f5f\",\"arrowhead\":0,\"arrowwidth\":1},\"geo\":{\"bgcolor\":\"white\",\"landcolor\":\"#E5ECF6\",\"subunitcolor\":\"white\",\"showland\":true,\"showlakes\":true,\"lakecolor\":\"white\"},\"title\":{\"x\":0.05},\"mapbox\":{\"style\":\"light\"}}},\"xaxis\":{\"anchor\":\"y\",\"domain\":[0.0,1.0],\"title\":{\"text\":\"car_hours\"}},\"yaxis\":{\"anchor\":\"x\",\"domain\":[0.0,1.0],\"title\":{\"text\":\"peak_hour\"}},\"coloraxis\":{\"colorbar\":{\"title\":{\"text\":\"car_hours\"}},\"colorscale\":[[0.0,\"#0d0887\"],[0.1111111111111111,\"#46039f\"],[0.2222222222222222,\"#7201a8\"],[0.3333333333333333,\"#9c179e\"],[0.4444444444444444,\"#bd3786\"],[0.5555555555555556,\"#d8576b\"],[0.6666666666666666,\"#ed7953\"],[0.7777777777777778,\"#fb9f3a\"],[0.8888888888888888,\"#fdca26\"],[1.0,\"#f0f921\"]]},\"legend\":{\"tracegroupgap\":0},\"margin\":{\"t\":60}},                        {\"responsive\": true}                    ).then(function(){\n",
       "                            \n",
       "var gd = document.getElementById('c9a0e2a2-8afb-48c1-9172-6993c3ddfdce');\n",
       "var x = new MutationObserver(function (mutations, observer) {{\n",
       "        var display = window.getComputedStyle(gd).display;\n",
       "        if (!display || display === 'none') {{\n",
       "            console.log([gd, 'removed!']);\n",
       "            Plotly.purge(gd);\n",
       "            observer.disconnect();\n",
       "        }}\n",
       "}});\n",
       "\n",
       "// Listen for the removal of the full notebook cells\n",
       "var notebookContainer = gd.closest('#notebook-container');\n",
       "if (notebookContainer) {{\n",
       "    x.observe(notebookContainer, {childList: true});\n",
       "}}\n",
       "\n",
       "// Listen for the clearing of the current output cell\n",
       "var outputEl = gd.closest('.output');\n",
       "if (outputEl) {{\n",
       "    x.observe(outputEl, {childList: true});\n",
       "}}\n",
       "\n",
       "                        })                };                });            </script>        </div>"
      ]
     },
     "metadata": {},
     "output_type": "display_data"
    }
   ],
   "source": [
    "data = carshare\n",
    "fig = px.scatter(data, x=\"car_hours\", y=\"peak_hour\", color=\"car_hours\")\n",
    "fig.show()"
   ]
  },
  {
   "cell_type": "markdown",
   "metadata": {
    "id": "ybbrqSTypszA"
   },
   "source": [
    "---\n",
    "\n",
    "# Part 4: Finishing (5 points)\n",
    "\n",
    "\n",
    "&#9989; Have you put **your name** and **GitHub username** at the top of your notebook?\n",
    "\n",
    "&#9989; Have you added the **TA** and **Instructor** to your GitHub repository?\n",
    "\n",
    "\n",
    "&#9989; Push your repository to GitHub.\n",
    "\n",
    "\n",
    "```bash\n",
    "\n",
    "# git add HW1_S23-STUDENT.ipynb\n",
    "# git commit -m 'finishing up-\n",
    "# git push\n",
    "```\n",
    "\n",
    "\n",
    "**NOTE:** The grader is able to see your commit messages and whether you pushed the repo at this stage.\n"
   ]
  },
  {
   "cell_type": "markdown",
   "metadata": {
    "id": "P5sGvK7sqNoX"
   },
   "source": [
    "---\n",
    "## Assignment wrap-up"
   ]
  },
  {
   "cell_type": "markdown",
   "metadata": {
    "id": "fEw79O_XqO93"
   },
   "source": [
    "### Congratulations, you're done!\n",
    "\n",
    "Submit this assignment by uploading it to the course Desire2Learn web page.  Go to the **\"Homework Assignments\"** folder, find the dropbox link for Homework #1, and upload it there."
   ]
  },
  {
   "cell_type": "markdown",
   "metadata": {
    "id": "olTHsASyqTP6"
   },
   "source": [
    "&#169; Copyright 2023,  Department of Computational Mathematics, Science and Engineering at Michigan State University"
   ]
  }
 ],
 "metadata": {
  "colab": {
   "provenance": []
  },
  "kernelspec": {
   "display_name": "Python 3",
   "language": "python",
   "name": "python3"
  },
  "language_info": {
   "codemirror_mode": {
    "name": "ipython",
    "version": 3
   },
   "file_extension": ".py",
   "mimetype": "text/x-python",
   "name": "python",
   "nbconvert_exporter": "python",
   "pygments_lexer": "ipython3",
   "version": "3.8.8"
  },
  "vscode": {
   "interpreter": {
    "hash": "31f2aee4e71d21fbe5cf8b01ff0e069b9275f58929596ceb00d14d90e3e16cd6"
   }
  }
 },
 "nbformat": 4,
 "nbformat_minor": 4
}
